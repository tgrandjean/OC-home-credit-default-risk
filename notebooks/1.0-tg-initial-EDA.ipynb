{
 "cells": [
  {
   "cell_type": "code",
   "execution_count": null,
   "metadata": {},
   "outputs": [],
   "source": [
    "import os\n",
    "\n",
    "import numpy as np\n",
    "import pandas as pd\n",
    "import featuretools as ft\n",
    "import matplotlib.pyplot as plt\n",
    "import seaborn as sns\n",
    "from sklearn.preprocessing import LabelEncoder, OneHotEncoder, MinMaxScaler\n",
    "from sklearn.impute import SimpleImputer\n",
    "from sklearn.linear_model import LogisticRegression\n",
    "import missingno as msno\n",
    "\n",
    "sns.set(font_scale=1.5, rc={\"figure.figsize\": (12, 8)})"
   ]
  },
  {
   "cell_type": "code",
   "execution_count": null,
   "metadata": {},
   "outputs": [],
   "source": [
    "def distplot(series, **kwargs):\n",
    "    \"\"\"Create a figure with two subplots.\n",
    "    The lower part of the figure is distplot and the upper part display\n",
    "    a box plot for the same sample.\n",
    "\n",
    "    :arg:\n",
    "        series (pd.Series): The sample you want to plot.\n",
    "        kwargs : all keyword argument accepted by seaborn.distplot.\n",
    "    \"\"\"\n",
    "    # Cut the window in 2 parts\n",
    "    kwrgs = {\"height_ratios\": (.15, .85)}\n",
    "    f, (ax_box, ax_hist) = plt.subplots(2, sharex=True, figsize=(8, 8),\n",
    "                                        gridspec_kw=kwrgs)\n",
    "\n",
    "    # Add a graph in each part\n",
    "    sns.boxplot(series, ax=ax_box)\n",
    "    sns.distplot(series, ax=ax_hist, **kwargs)\n",
    "\n",
    "    # Remove x axis name for the boxplot\n",
    "    ax_box.set(xlabel='')\n",
    "    return ax"
   ]
  },
  {
   "cell_type": "markdown",
   "metadata": {},
   "source": [
    "## Data loading"
   ]
  },
  {
   "cell_type": "code",
   "execution_count": null,
   "metadata": {},
   "outputs": [],
   "source": [
    "data = dict()\n",
    "for dirname, _, filenames in os.walk('../data/raw'):\n",
    "    for filename in filenames:\n",
    "        print(filename)"
   ]
  },
  {
   "cell_type": "markdown",
   "metadata": {},
   "source": [
    "**Liens entre les fichiers**\n",
    "\n",
    "![kaggle](https://storage.googleapis.com/kaggle-media/competitions/home-credit/home_credit.png)\n"
   ]
  },
  {
   "cell_type": "code",
   "execution_count": null,
   "metadata": {},
   "outputs": [],
   "source": [
    "app_train = pd.read_csv('../data/raw/application_train.csv')\n",
    "print('Training data shape: ', app_train.shape)\n",
    "app_train.head()"
   ]
  },
  {
   "cell_type": "code",
   "execution_count": null,
   "metadata": {},
   "outputs": [],
   "source": [
    "app_test = pd.read_csv('../data/raw/application_test.csv')\n",
    "print('Testing data shape: ', app_test.shape)\n",
    "app_test.head()"
   ]
  },
  {
   "cell_type": "markdown",
   "metadata": {},
   "source": [
    "## Exploratory data analysis"
   ]
  },
  {
   "cell_type": "markdown",
   "metadata": {},
   "source": [
    "### Target distribution"
   ]
  },
  {
   "cell_type": "code",
   "execution_count": null,
   "metadata": {},
   "outputs": [],
   "source": [
    "app_train['TARGET'].value_counts()"
   ]
  },
  {
   "cell_type": "code",
   "execution_count": null,
   "metadata": {},
   "outputs": [],
   "source": [
    "fig, ax = plt.subplots(1, figsize=(12, 8))\n",
    "sns.countplot(app_train['TARGET'])\n",
    "plt.xticks(ticks=[0, 1], labels=['Prêt remboursés', 'Défauts'])\n",
    "plt.show()"
   ]
  },
  {
   "cell_type": "markdown",
   "metadata": {},
   "source": [
    "### missing values"
   ]
  },
  {
   "cell_type": "code",
   "execution_count": null,
   "metadata": {},
   "outputs": [],
   "source": [
    "incomplete = list()\n",
    "for col in app_train.columns:\n",
    "    if app_train[col].isna().any():\n",
    "        incomplete.append(col)\n",
    "        \n",
    "print('the dataframe contains %i columns with missing values' % len(incomplete))"
   ]
  },
  {
   "cell_type": "code",
   "execution_count": null,
   "metadata": {},
   "outputs": [],
   "source": [
    "msno.matrix(app_train[incomplete], labels=True)"
   ]
  },
  {
   "cell_type": "code",
   "execution_count": null,
   "metadata": {},
   "outputs": [],
   "source": [
    "completeness = pd.DataFrame(app_train.isnull().sum(), columns=['missing values'])\n",
    "completeness['% of missing'] = (completeness['missing values'] / len(app_train) * 100)\n",
    "completeness.sort_values('% of missing', ascending=False)"
   ]
  },
  {
   "cell_type": "markdown",
   "metadata": {},
   "source": [
    "### column types"
   ]
  },
  {
   "cell_type": "code",
   "execution_count": null,
   "metadata": {},
   "outputs": [],
   "source": [
    "app_train.dtypes.value_counts()"
   ]
  },
  {
   "cell_type": "markdown",
   "metadata": {},
   "source": [
    "### categorical variables"
   ]
  },
  {
   "cell_type": "code",
   "execution_count": null,
   "metadata": {},
   "outputs": [],
   "source": [
    "app_train.select_dtypes('object').apply(pd.Series.nunique, axis=0)"
   ]
  },
  {
   "cell_type": "markdown",
   "metadata": {},
   "source": [
    "### Label encoding and One-Hot Encoding"
   ]
  },
  {
   "cell_type": "code",
   "execution_count": null,
   "metadata": {},
   "outputs": [],
   "source": [
    "app_train.info()"
   ]
  },
  {
   "cell_type": "code",
   "execution_count": null,
   "metadata": {},
   "outputs": [],
   "source": [
    "le = LabelEncoder()\n",
    "le_ = 0\n",
    "\n",
    "for col in app_train.columns:\n",
    "    if app_train[col].dtype.name == 'object':\n",
    "        if len(app_train[col].unique()) <= 2:\n",
    "            # label encoder\n",
    "            print('Encoding %s' % col)\n",
    "            le.fit(app_train[col])\n",
    "            app_train[col] = le.transform(app_train[col])\n",
    "            app_test[col] = le.transform(app_test[col])\n",
    "            le_ += 1\n",
    "\n",
    "print(f\"{le_} columns encoded\")"
   ]
  },
  {
   "cell_type": "code",
   "execution_count": null,
   "metadata": {},
   "outputs": [],
   "source": [
    "app_train = pd.get_dummies(app_train)\n",
    "app_test = pd.get_dummies(app_test)"
   ]
  },
  {
   "cell_type": "code",
   "execution_count": null,
   "metadata": {},
   "outputs": [],
   "source": [
    "app_train.shape"
   ]
  },
  {
   "cell_type": "code",
   "execution_count": null,
   "metadata": {},
   "outputs": [],
   "source": [
    "app_train.info()"
   ]
  },
  {
   "cell_type": "code",
   "execution_count": null,
   "metadata": {},
   "outputs": [],
   "source": [
    "train_labels = app_train['TARGET']\n",
    "app_train, app_test = app_train.align(app_test, join='inner', axis=1)\n",
    "app_train['TARGET'] = train_labels\n",
    "\n",
    "print(f'Train set shape : {app_train.shape}')\n",
    "print(f'Test set shape : {app_test.shape}')"
   ]
  },
  {
   "cell_type": "code",
   "execution_count": null,
   "metadata": {},
   "outputs": [],
   "source": [
    "app_train.head()"
   ]
  },
  {
   "cell_type": "code",
   "execution_count": null,
   "metadata": {},
   "outputs": [],
   "source": [
    "app_train['TARGET']"
   ]
  },
  {
   "cell_type": "markdown",
   "metadata": {},
   "source": [
    "### Anomalies"
   ]
  },
  {
   "cell_type": "code",
   "execution_count": null,
   "metadata": {},
   "outputs": [],
   "source": []
  },
  {
   "cell_type": "markdown",
   "metadata": {},
   "source": [
    "### Correlations"
   ]
  },
  {
   "cell_type": "code",
   "execution_count": null,
   "metadata": {},
   "outputs": [],
   "source": [
    "# Find correlations with the target and sort\n",
    "correlations = app_train.corr()['TARGET'].sort_values()"
   ]
  },
  {
   "cell_type": "code",
   "execution_count": null,
   "metadata": {},
   "outputs": [],
   "source": [
    "correlations.tail(15)"
   ]
  },
  {
   "cell_type": "code",
   "execution_count": null,
   "metadata": {},
   "outputs": [],
   "source": [
    "correlations.head(15)"
   ]
  },
  {
   "cell_type": "code",
   "execution_count": null,
   "metadata": {},
   "outputs": [],
   "source": [
    "distplot(app_train['DAYS_BIRTH'])\n",
    "plt.show()"
   ]
  },
  {
   "cell_type": "code",
   "execution_count": null,
   "metadata": {},
   "outputs": [],
   "source": [
    "app_train['DAYS_BIRTH'] = np.abs(app_train['DAYS_BIRTH'])\n",
    "sns.kdeplot(app_train[app_train['TARGET'] == 0]['DAYS_BIRTH'] / 365, label='repaid')\n",
    "sns.kdeplot(app_train[app_train['TARGET'] == 1]['DAYS_BIRTH'] / 365, label='default')\n",
    "plt.xlabel('Age (year)')\n",
    "plt.ylabel('freq')"
   ]
  },
  {
   "cell_type": "code",
   "execution_count": null,
   "metadata": {},
   "outputs": [],
   "source": [
    "# Age information into a separate dataframe\n",
    "age_data = app_train[['TARGET', 'DAYS_BIRTH']]\n",
    "age_data['YEARS_BIRTH'] = age_data['DAYS_BIRTH'] / 365\n",
    "\n",
    "# Bin the age data\n",
    "age_data['YEARS_BINNED'] = pd.cut(age_data['YEARS_BIRTH'], bins = np.linspace(20, 70, num = 11))\n",
    "age_data.head(10)"
   ]
  },
  {
   "cell_type": "code",
   "execution_count": null,
   "metadata": {},
   "outputs": [],
   "source": [
    "age_groups_count = age_data.groupby('TARGET')\\\n",
    "                        .apply(lambda x: x.groupby('YEARS_BINNED')\\\n",
    "                               .count()).drop(columns='TARGET').reset_index(drop=False)"
   ]
  },
  {
   "cell_type": "code",
   "execution_count": null,
   "metadata": {},
   "outputs": [],
   "source": [
    "plt.bar(x=age_groups_count[age_groups_count['TARGET'] == 0]['YEARS_BINNED'].values.astype('str'),\n",
    "        height=age_groups_count[age_groups_count['TARGET'] == 0]['DAYS_BIRTH'], label='Repaid', width=1)\n",
    "plt.bar(x=age_groups_count[age_groups_count['TARGET'] == 1]['YEARS_BINNED'].values.astype('str'),\n",
    "        height=age_groups_count[age_groups_count['TARGET'] == 1]['DAYS_BIRTH'], label='Default', width=1)\n",
    "plt.xticks(rotation=45)\n",
    "plt.legend()\n",
    "plt.show()"
   ]
  },
  {
   "cell_type": "code",
   "execution_count": null,
   "metadata": {},
   "outputs": [],
   "source": [
    "# Group by the bin and calculate averages\n",
    "age_groups  = age_data.groupby('YEARS_BINNED').mean()\n",
    "age_groups"
   ]
  },
  {
   "cell_type": "code",
   "execution_count": null,
   "metadata": {},
   "outputs": [],
   "source": [
    "plt.figure(figsize = (8, 8))\n",
    "\n",
    "# Graph the age bins and the average of the target as a bar plot\n",
    "plt.bar(age_groups.index.astype(str), 100 * age_groups['TARGET'])\n",
    "\n",
    "# Plot labeling\n",
    "plt.xticks(rotation = 75); plt.xlabel('Age Group (years)'); plt.ylabel('Failure to Repay (%)')\n",
    "plt.title('Failure to Repay by Age Group');"
   ]
  },
  {
   "cell_type": "code",
   "execution_count": null,
   "metadata": {},
   "outputs": [],
   "source": [
    "# Extract the EXT_SOURCE variables and show correlations\n",
    "ext_data = app_train[['TARGET', 'EXT_SOURCE_1', 'EXT_SOURCE_2', 'EXT_SOURCE_3', 'DAYS_BIRTH']]\n",
    "ext_data_corrs = ext_data.corr()\n",
    "ext_data_corrs"
   ]
  },
  {
   "cell_type": "code",
   "execution_count": null,
   "metadata": {},
   "outputs": [],
   "source": [
    "plt.figure(figsize = (8, 6))\n",
    "\n",
    "# Heatmap of correlations\n",
    "sns.heatmap(ext_data_corrs, cmap=plt.cm.RdYlBu_r, vmin=-0.25, annot=True, vmax=0.6)\n",
    "plt.title('Correlation Heatmap');"
   ]
  },
  {
   "cell_type": "markdown",
   "metadata": {},
   "source": [
    "## Baseline : régression logistique"
   ]
  },
  {
   "cell_type": "code",
   "execution_count": null,
   "metadata": {},
   "outputs": [],
   "source": [
    "target = app_train['TARGET']\n",
    "features = list(app_train.columns)\n",
    "\n",
    "test = app_test.copy()\n",
    "train = app_train.copy().drop(columns=['TARGET'])\n",
    "\n",
    "imputer = SimpleImputer(strategy='median')\n",
    "scaler = MinMaxScaler(feature_range=(0, 1))\n",
    "\n",
    "imputer.fit(train)\n",
    "\n",
    "train = imputer.transform(train)\n",
    "test = imputer.transform(test)\n",
    "\n",
    "scaler.fit(train)\n",
    "\n",
    "train = scaler.transform(train)\n",
    "test = scaler.transform(test)\n",
    "\n",
    "print(f'train set shape : {train.shape}')\n",
    "print(f'test set shape : {test.shape}')"
   ]
  },
  {
   "cell_type": "code",
   "execution_count": null,
   "metadata": {},
   "outputs": [],
   "source": [
    "reg = LogisticRegression(C=1e-4)\n",
    "reg.fit(train, target)"
   ]
  },
  {
   "cell_type": "code",
   "execution_count": null,
   "metadata": {},
   "outputs": [],
   "source": [
    "baseline_results = app_test[['SK_ID_CURR']]\n",
    "baseline_results['TARGET'] = reg.predict_proba(test)[:, 1]"
   ]
  },
  {
   "cell_type": "code",
   "execution_count": null,
   "metadata": {},
   "outputs": [],
   "source": [
    "baseline_results.head()"
   ]
  },
  {
   "cell_type": "code",
   "execution_count": null,
   "metadata": {},
   "outputs": [],
   "source": [
    "path = os.path.join(os.path.abspath('../reports/'), 'logistic_reg_baseline.csv')\n",
    "baseline_results.to_csv(path, index=False)"
   ]
  },
  {
   "cell_type": "markdown",
   "metadata": {},
   "source": [
    "### Baseline results :\n",
    "\n",
    "**Score 0.67789**\n",
    "\n",
    "A ce stade là, seul un fichier a été exploité. Il est quand même intéressant de voir que l'on atteind un score *ROC_AUC* de 0.68.\n",
    "\n",
    "*ROC_AUC: Rappel* ![wiki](https://upload.wikimedia.org/wikipedia/commons/thumb/4/4f/ROC_curves.svg/1280px-ROC_curves.svg.png)"
   ]
  },
  {
   "cell_type": "markdown",
   "metadata": {},
   "source": [
    "## Exploration des autres fichiers"
   ]
  },
  {
   "cell_type": "markdown",
   "metadata": {},
   "source": [
    " * **bureau.csv**\n",
    "\n",
    "    * All client's previous credits provided by other financial institutions that were reported to Credit Bureau (for clients who have a loan in our sample).\n",
    "    * For every loan in our sample, there are as many rows as number of credits the client had in Credit Bureau before the application date.\n",
    "\n",
    " * **bureau_balance.csv**\n",
    "\n",
    "    * Monthly balances of previous credits in Credit Bureau.\n",
    "    * This table has one row for each month of history of every previous credit reported to Credit Bureau – i.e the table has (#loans in sample * # of relative previous credits * # of months where we have some history observable for the previous credits) rows.\n",
    "\n",
    " * **POS_CASH_balance.csv**\n",
    "\n",
    "    * Monthly balance snapshots of previous POS (point of sales) and cash loans that the applicant had with Home Credit.\n",
    "    * This table has one row for each month of history of every previous credit in Home Credit (consumer credit and cash loans) related to loans in our sample – i.e. the table has (#loans in sample * # of relative previous credits * # of months in which we have some history observable for the previous credits) rows.\n",
    "\n",
    " * **credit_card_balance.csv**\n",
    "\n",
    "    * Monthly balance snapshots of previous credit cards that the applicant has with Home Credit.\n",
    "    * This table has one row for each month of history of every previous credit in Home Credit (consumer credit and cash loans) related to loans in our sample – i.e. the table has (#loans in sample * # of relative previous credit cards * # of months where we have some history observable for the previous credit card) rows.\n",
    "\n",
    " * **previous_application.csv**\n",
    "\n",
    "    * All previous applications for Home Credit loans of clients who have loans in our sample.\n",
    "    * There is one row for each previous application related to loans in our data sample.\n",
    "\n",
    "    * Repayment history for the previously disbursed credits in Home Credit related to the loans in our sample.\n",
    "    * There is a) one row for every payment that was made plus b) one row each for missed payment.\n",
    "    * One row is equivalent to one payment of one installment OR one installment corresponding to one payment of one previous Home Credit credit related to loans in our sample.\n",
    " \n",
    " \n",
    " Rappel:\n",
    " \n",
    " **Liens entre les fichiers**\n",
    "\n",
    "![kaggle](https://storage.googleapis.com/kaggle-media/competitions/home-credit/home_credit.png)\n",
    "\n",
    " "
   ]
  },
  {
   "cell_type": "code",
   "execution_count": null,
   "metadata": {},
   "outputs": [],
   "source": [
    "bureau = pd.read_csv('../data/raw/bureau.csv')\\\n",
    "    .sort_values(['SK_ID_CURR', 'SK_ID_BUREAU'])\\\n",
    "    .reset_index(drop=True)\n",
    "bureau_balance = pd.read_csv('../data/raw/bureau_balance.csv')\\\n",
    "    .sort_values('SK_ID_BUREAU')\\\n",
    "    .reset_index(drop=True)\n",
    "cash = pd.read_csv('../data/raw/POS_CASH_balance.csv')\\\n",
    "    .sort_values(['SK_ID_CURR', 'SK_ID_PREV'])\\\n",
    "    .reset_index(drop=True)\n",
    "credit = pd.read_csv('../data/raw/credit_card_balance.csv')\\\n",
    "    .sort_values(['SK_ID_CURR', 'SK_ID_PREV'])\\\n",
    "    .reset_index(drop=True)\n",
    "previous = pd.read_csv('../data/raw/previous_application.csv')\\\n",
    "    .sort_values(['SK_ID_CURR', 'SK_ID_PREV'])\\\n",
    "    .reset_index(drop=True)\n",
    "installments = pd.read_csv('../data/raw/installments_payments.csv')\\\n",
    "    .sort_values(['SK_ID_CURR', 'SK_ID_PREV'])\\\n",
    "    .reset_index(drop=True)"
   ]
  },
  {
   "cell_type": "code",
   "execution_count": null,
   "metadata": {},
   "outputs": [],
   "source": [
    "bureau.head()"
   ]
  },
  {
   "cell_type": "markdown",
   "metadata": {},
   "source": [
    "### Customers's history"
   ]
  },
  {
   "cell_type": "code",
   "execution_count": null,
   "metadata": {},
   "outputs": [],
   "source": [
    "bureau['CREDIT_ACTIVE'].unique()"
   ]
  },
  {
   "cell_type": "code",
   "execution_count": null,
   "metadata": {},
   "outputs": [],
   "source": [
    "bureau['CREDIT_ACTIVE'].value_counts()"
   ]
  },
  {
   "cell_type": "code",
   "execution_count": null,
   "metadata": {},
   "outputs": [],
   "source": [
    "# distribution of the total number of past or/and actual credits per client\n",
    "distplot(bureau.groupby('SK_ID_CURR').count()['SK_ID_BUREAU'])\n",
    "plt.show()"
   ]
  },
  {
   "cell_type": "code",
   "execution_count": null,
   "metadata": {},
   "outputs": [],
   "source": [
    "sns.kdeplot(bureau[bureau['CREDIT_ACTIVE'] == 'Closed'].groupby('SK_ID_CURR').count()['SK_ID_BUREAU'], label='Closed')\n",
    "sns.kdeplot(bureau[bureau['CREDIT_ACTIVE'] == 'Active'].groupby('SK_ID_CURR').count()['SK_ID_BUREAU'], label='Active')\n",
    "sns.kdeplot(bureau[bureau['CREDIT_ACTIVE'] == 'Sold'].groupby('SK_ID_CURR').count()['SK_ID_BUREAU'], label='Sold')\n"
   ]
  },
  {
   "cell_type": "code",
   "execution_count": null,
   "metadata": {},
   "outputs": [],
   "source": [
    "from mpl_toolkits.axes_grid1.inset_locator import mark_inset, zoomed_inset_axes\n",
    "\n",
    "fig, ax = plt.subplots()\n",
    "sns.kdeplot(bureau[bureau['CREDIT_ACTIVE'] == 'Closed'].groupby('SK_ID_CURR').count()['SK_ID_BUREAU'], \n",
    "            label='Closed', ax=ax)\n",
    "sns.kdeplot(bureau[bureau['CREDIT_ACTIVE'] == 'Active'].groupby('SK_ID_CURR').count()['SK_ID_BUREAU'], \n",
    "            label='Active', ax=ax)\n",
    "sns.kdeplot(bureau[bureau['CREDIT_ACTIVE'] == 'Sold'].groupby('SK_ID_CURR').count()['SK_ID_BUREAU'], \n",
    "            label='Sold', ax=ax)\n",
    "\n",
    "axins = zoomed_inset_axes(ax, 5, loc='upper center')\n",
    "\n",
    "axins.set_xlim(0, 15) # apply the x-limits\n",
    "axins.set_ylim(0, 1) # apply the y-limits\n",
    "\n",
    "sns.kdeplot(bureau[bureau['CREDIT_ACTIVE'] == 'Closed'].groupby('SK_ID_CURR').count()['SK_ID_BUREAU'], \n",
    "            label=None, ax=axins)\n",
    "sns.kdeplot(bureau[bureau['CREDIT_ACTIVE'] == 'Active'].groupby('SK_ID_CURR').count()['SK_ID_BUREAU'], \n",
    "            label=None, ax=axins)\n",
    "sns.kdeplot(bureau[bureau['CREDIT_ACTIVE'] == 'Sold'].groupby('SK_ID_CURR').count()['SK_ID_BUREAU'], \n",
    "            label=None, ax=axins)\n",
    "\n",
    "plt.yticks(visible=False)\n",
    "plt.xticks(visible=True)\n",
    "\n",
    "axins.legend_.remove()\n",
    "\n",
    "mark_inset(ax, axins, loc1=2, loc2=4, fc='none', ec='0.5')\n",
    "\n",
    "plt.show()"
   ]
  },
  {
   "cell_type": "code",
   "execution_count": null,
   "metadata": {},
   "outputs": [],
   "source": [
    "bureau_balance.head()"
   ]
  },
  {
   "cell_type": "code",
   "execution_count": null,
   "metadata": {},
   "outputs": [],
   "source": [
    "bureau_balance.describe()"
   ]
  },
  {
   "cell_type": "code",
   "execution_count": null,
   "metadata": {},
   "outputs": [],
   "source": [
    "bureau_balance[bureau_balance['SK_ID_BUREAU'] == 5001709]"
   ]
  },
  {
   "cell_type": "code",
   "execution_count": null,
   "metadata": {},
   "outputs": [],
   "source": [
    "bureau_balance['STATUS'].value_counts()"
   ]
  },
  {
   "cell_type": "markdown",
   "metadata": {},
   "source": [
    "Status of Credit Bureau loan during the month (active, closed, DPD0-30,… [C means closed, X means status unknown, 0 means no DPD, 1 means maximal did during month between 1-30, 2 means DPD 31-60,… 5 means DPD 120+ or sold or written off ] )\n",
    "\n",
    "DPD (Days past due)"
   ]
  },
  {
   "cell_type": "markdown",
   "metadata": {},
   "source": [
    "### Récapitulons"
   ]
  },
  {
   "cell_type": "code",
   "execution_count": null,
   "metadata": {},
   "outputs": [],
   "source": [
    "# select 5 customers from the main table\n",
    "sample = app_train.sample(5, random_state=20)"
   ]
  },
  {
   "cell_type": "code",
   "execution_count": null,
   "metadata": {},
   "outputs": [],
   "source": [
    "sample"
   ]
  },
  {
   "cell_type": "markdown",
   "metadata": {},
   "source": [
    "La table principale nous renvoie les données fournies lors de la souscription.\n",
    "\n",
    "L'un des 5 clients est un mauvais payeur (SK_ID_CURR 386051)."
   ]
  },
  {
   "cell_type": "code",
   "execution_count": null,
   "metadata": {},
   "outputs": [],
   "source": [
    "cust_1 = bureau[bureau['SK_ID_CURR'] == 204829]\n",
    "cust_1"
   ]
  },
  {
   "cell_type": "code",
   "execution_count": null,
   "metadata": {},
   "outputs": [],
   "source": [
    "cust_2 = bureau[bureau['SK_ID_CURR'] == 386051]\n",
    "cust_2"
   ]
  },
  {
   "cell_type": "markdown",
   "metadata": {},
   "source": [
    "on récupère alors le passif du client fourni par les autres institutions bancaire."
   ]
  },
  {
   "cell_type": "code",
   "execution_count": null,
   "metadata": {},
   "outputs": [],
   "source": [
    "cust_2['SK_ID_BUREAU']"
   ]
  },
  {
   "cell_type": "markdown",
   "metadata": {},
   "source": [
    "On accède finalement à la balance des crédits pour chaque crédit et pour chaque client."
   ]
  },
  {
   "cell_type": "code",
   "execution_count": null,
   "metadata": {},
   "outputs": [],
   "source": [
    "bureau_balance.set_index('SK_ID_BUREAU').loc[cust_1['SK_ID_BUREAU']]"
   ]
  },
  {
   "cell_type": "code",
   "execution_count": null,
   "metadata": {},
   "outputs": [],
   "source": [
    "# bureau_balance.set_index('SK_ID_BUREAU').loc[cust_2['SK_ID_BUREAU'], :]\n",
    "# KeyError: \"None of [Int64Index([6194109, 6194110], dtype='int64', name='SK_ID_BUREAU')] are in the [index]\""
   ]
  },
  {
   "cell_type": "markdown",
   "metadata": {},
   "source": [
    "Historique du client auprès d'home credit"
   ]
  },
  {
   "cell_type": "code",
   "execution_count": null,
   "metadata": {},
   "outputs": [],
   "source": [
    "previous.head()"
   ]
  },
  {
   "cell_type": "code",
   "execution_count": null,
   "metadata": {},
   "outputs": [],
   "source": [
    "previous['CODE_REJECT_REASON'].value_counts()"
   ]
  },
  {
   "cell_type": "code",
   "execution_count": null,
   "metadata": {},
   "outputs": [],
   "source": []
  }
 ],
 "metadata": {
  "kernelspec": {
   "display_name": "credit_risk",
   "language": "python",
   "name": "credit_risk"
  },
  "language_info": {
   "codemirror_mode": {
    "name": "ipython",
    "version": 3
   },
   "file_extension": ".py",
   "mimetype": "text/x-python",
   "name": "python",
   "nbconvert_exporter": "python",
   "pygments_lexer": "ipython3",
   "version": "3.7.4"
  },
  "toc": {
   "base_numbering": 1,
   "nav_menu": {},
   "number_sections": true,
   "sideBar": true,
   "skip_h1_title": false,
   "title_cell": "Table of Contents",
   "title_sidebar": "Contents",
   "toc_cell": false,
   "toc_position": {},
   "toc_section_display": true,
   "toc_window_display": false
  },
  "varInspector": {
   "cols": {
    "lenName": 16,
    "lenType": 16,
    "lenVar": 40
   },
   "kernels_config": {
    "python": {
     "delete_cmd_postfix": "",
     "delete_cmd_prefix": "del ",
     "library": "var_list.py",
     "varRefreshCmd": "print(var_dic_list())"
    },
    "r": {
     "delete_cmd_postfix": ") ",
     "delete_cmd_prefix": "rm(",
     "library": "var_list.r",
     "varRefreshCmd": "cat(var_dic_list()) "
    }
   },
   "types_to_exclude": [
    "module",
    "function",
    "builtin_function_or_method",
    "instance",
    "_Feature"
   ],
   "window_display": false
  }
 },
 "nbformat": 4,
 "nbformat_minor": 2
}
