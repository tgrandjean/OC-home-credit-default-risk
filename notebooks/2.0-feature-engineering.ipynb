{
 "cells": [
  {
   "cell_type": "code",
   "execution_count": null,
   "metadata": {},
   "outputs": [],
   "source": [
    "import os\n",
    "\n",
    "import numpy as np\n",
    "import pandas as pd\n",
    "import matplotlib.pyplot as plt\n",
    "import seaborn as sns\n",
    "import missingno as msno\n",
    "import pickle\n",
    "\n",
    "sns.set()"
   ]
  },
  {
   "cell_type": "code",
   "execution_count": null,
   "metadata": {},
   "outputs": [],
   "source": [
    "def distplot(series, **kwargs):\n",
    "    \"\"\"Create a figure with two subplots.\n",
    "    The lower part of the figure is distplot and the upper part display\n",
    "    a box plot for the same sample.\n",
    "\n",
    "    :arg:\n",
    "        series (pd.Series): The sample you want to plot.\n",
    "        kwargs : all keyword argument accepted by seaborn.distplot.\n",
    "    \"\"\"\n",
    "    # Cut the window in 2 parts\n",
    "    kwrgs = {\"height_ratios\": (.15, .85)}\n",
    "    f, (ax_box, ax_hist) = plt.subplots(2, sharex=True, figsize=(8, 8),\n",
    "                                        gridspec_kw=kwrgs)\n",
    "\n",
    "    # Add a graph in each part\n",
    "    sns.boxplot(series, ax=ax_box)\n",
    "    sns.distplot(series, ax=ax_hist, **kwargs)\n",
    "\n",
    "    # Remove x axis name for the boxplot\n",
    "    ax_box.set(xlabel='')\n"
   ]
  },
  {
   "cell_type": "code",
   "execution_count": null,
   "metadata": {},
   "outputs": [],
   "source": [
    "data = dict()\n",
    "for dirname, _, filenames in os.walk('../data/raw'):\n",
    "    for filename in filenames:\n",
    "        print(filename)"
   ]
  },
  {
   "cell_type": "markdown",
   "metadata": {},
   "source": [
    "On recharge les données intégralement"
   ]
  },
  {
   "cell_type": "code",
   "execution_count": null,
   "metadata": {},
   "outputs": [],
   "source": [
    "app_train = pd.read_csv('../data/raw/application_train.csv')\\\n",
    "    .sort_values('SK_ID_CURR')\\\n",
    "    .reset_index(drop=True)\n",
    "app_test = pd.read_csv('../data/raw/application_test.csv')\\\n",
    "    .sort_values('SK_ID_CURR')\\\n",
    "    .reset_index(drop=True)\n",
    "bureau = pd.read_csv('../data/raw/bureau.csv')\\\n",
    "    .sort_values(['SK_ID_CURR', 'SK_ID_BUREAU'])\\\n",
    "    .reset_index(drop=True)\n",
    "bureau_balance = pd.read_csv('../data/raw/bureau_balance.csv')\\\n",
    "    .sort_values('SK_ID_BUREAU')\\\n",
    "    .reset_index(drop=True)\n",
    "cash = pd.read_csv('../data/raw/POS_CASH_balance.csv')\\\n",
    "    .sort_values(['SK_ID_CURR', 'SK_ID_PREV'])\\\n",
    "    .reset_index(drop=True)\n",
    "credit = pd.read_csv('../data/raw/credit_card_balance.csv')\\\n",
    "    .sort_values(['SK_ID_CURR', 'SK_ID_PREV'])\\\n",
    "    .reset_index(drop=True)\n",
    "previous = pd.read_csv('../data/raw/previous_application.csv')\\\n",
    "    .sort_values(['SK_ID_CURR', 'SK_ID_PREV'])\\\n",
    "    .reset_index(drop=True)\n",
    "installments = pd.read_csv('../data/raw/installments_payments.csv')\\\n",
    "    .sort_values(['SK_ID_CURR', 'SK_ID_PREV'])\\\n",
    "    .reset_index(drop=True)"
   ]
  },
  {
   "cell_type": "markdown",
   "metadata": {},
   "source": [
    "## Manual feature engineering\n",
    "\n",
    "On reprend les quelques variables qui ont le plus de sens. Voir Notebook '1.0-tg-initial-EDA'"
   ]
  },
  {
   "cell_type": "code",
   "execution_count": null,
   "metadata": {},
   "outputs": [],
   "source": [
    "features = app_train[['SK_ID_CURR', \n",
    "                      'DAYS_BIRTH', # Age\n",
    "                      #'CODE_GENDER', # Sex\n",
    "                      'OCCUPATION_TYPE', # Job\n",
    "                      'AMT_INCOME_TOTAL', # Revenues\n",
    "                      'AMT_CREDIT', # Credit amount\n",
    "                      'NAME_CONTRACT_TYPE', # Contract type, Cash/Revolving\n",
    "                      'AMT_ANNUITY', # Annuity amount\n",
    "                      'EXT_SOURCE_1',\n",
    "                      'EXT_SOURCE_2',\n",
    "                      'EXT_SOURCE_3',\n",
    "                     ]]\n",
    "\n",
    "features_test = app_test[['SK_ID_CURR', \n",
    "                          'DAYS_BIRTH', # Age\n",
    "                          #'CODE_GENDER', # Sex\n",
    "                          'OCCUPATION_TYPE', # Job\n",
    "                          'AMT_INCOME_TOTAL', # Revenues\n",
    "                          'AMT_CREDIT', # Credit amount\n",
    "                          'NAME_CONTRACT_TYPE', # Contract type, Cash/Revolving\n",
    "                          'AMT_ANNUITY', # Annuity amount\n",
    "                          'EXT_SOURCE_1',\n",
    "                          'EXT_SOURCE_2',\n",
    "                          'EXT_SOURCE_3',\n",
    "                         ]]"
   ]
  },
  {
   "cell_type": "code",
   "execution_count": null,
   "metadata": {},
   "outputs": [],
   "source": [
    "features = pd.concat([features, features_test], axis=0)"
   ]
  },
  {
   "cell_type": "code",
   "execution_count": null,
   "metadata": {},
   "outputs": [],
   "source": [
    "features.shape"
   ]
  },
  {
   "cell_type": "code",
   "execution_count": null,
   "metadata": {},
   "outputs": [],
   "source": [
    "features"
   ]
  },
  {
   "cell_type": "code",
   "execution_count": null,
   "metadata": {},
   "outputs": [],
   "source": [
    "features['DAYS_BIRTH'] = features['DAYS_BIRTH'] / -365"
   ]
  },
  {
   "cell_type": "code",
   "execution_count": null,
   "metadata": {},
   "outputs": [],
   "source": [
    "features"
   ]
  },
  {
   "cell_type": "markdown",
   "metadata": {},
   "source": [
    "### payment default"
   ]
  },
  {
   "cell_type": "code",
   "execution_count": null,
   "metadata": {},
   "outputs": [],
   "source": [
    "bureau"
   ]
  },
  {
   "cell_type": "code",
   "execution_count": null,
   "metadata": {},
   "outputs": [],
   "source": [
    "bureau = bureau.set_index('SK_ID_BUREAU').join(pd.get_dummies(bureau.set_index('SK_ID_BUREAU')['CREDIT_ACTIVE'], prefix='CREDIT_ACTIVE'))"
   ]
  },
  {
   "cell_type": "code",
   "execution_count": null,
   "metadata": {},
   "outputs": [],
   "source": [
    "bureau[bureau['SK_ID_CURR'] == 456116]"
   ]
  },
  {
   "cell_type": "code",
   "execution_count": null,
   "metadata": {},
   "outputs": [],
   "source": [
    "bureau_balance['STATUS'].replace('C', 0, inplace=True)\n",
    "bureau_balance['STATUS'].replace('X', 0, inplace=True)\n",
    "bureau_balance['STATUS'] = bureau_balance['STATUS'].astype('int')"
   ]
  },
  {
   "cell_type": "code",
   "execution_count": null,
   "metadata": {},
   "outputs": [],
   "source": [
    "count_late = bureau_balance.groupby('SK_ID_BUREAU')['STATUS'].sum()"
   ]
  },
  {
   "cell_type": "code",
   "execution_count": null,
   "metadata": {},
   "outputs": [],
   "source": [
    "count_late.describe()"
   ]
  },
  {
   "cell_type": "code",
   "execution_count": null,
   "metadata": {},
   "outputs": [],
   "source": [
    "bureau = pd.merge(bureau, count_late, left_on='SK_ID_BUREAU', right_on='SK_ID_BUREAU')\n",
    "bureau.rename(columns={\"STATUS\": 'REPORTED_DPD'}, inplace=True)"
   ]
  },
  {
   "cell_type": "code",
   "execution_count": null,
   "metadata": {},
   "outputs": [],
   "source": [
    "bureau"
   ]
  },
  {
   "cell_type": "code",
   "execution_count": null,
   "metadata": {},
   "outputs": [],
   "source": [
    "bureau[[x for x in bureau.columns if x.startswith('CREDIT_ACTIVE_')] + ['SK_ID_CURR', 'REPORTED_DPD']].groupby('SK_ID_CURR').sum()"
   ]
  },
  {
   "cell_type": "code",
   "execution_count": null,
   "metadata": {},
   "outputs": [],
   "source": [
    "bureau_history = bureau[[x for x in bureau.columns if x.startswith('CREDIT_ACTIVE_')] + ['SK_ID_CURR', 'REPORTED_DPD']].groupby('SK_ID_CURR').sum()\n",
    "features = features.set_index('SK_ID_CURR').join(bureau_history).reset_index()"
   ]
  },
  {
   "cell_type": "code",
   "execution_count": null,
   "metadata": {},
   "outputs": [],
   "source": [
    "features"
   ]
  },
  {
   "cell_type": "code",
   "execution_count": null,
   "metadata": {},
   "outputs": [],
   "source": [
    "features.columns"
   ]
  },
  {
   "cell_type": "code",
   "execution_count": null,
   "metadata": {},
   "outputs": [],
   "source": [
    "# No significant features.\n",
    "# From feature importance with LightGBM\n",
    "features.drop(columns=['CREDIT_ACTIVE_Bad debt', 'CREDIT_ACTIVE_Sold'], inplace=True)"
   ]
  },
  {
   "cell_type": "code",
   "execution_count": null,
   "metadata": {},
   "outputs": [],
   "source": [
    "features.join(app_train['TARGET'])"
   ]
  },
  {
   "cell_type": "markdown",
   "metadata": {},
   "source": [
    "### payment default from HC"
   ]
  },
  {
   "cell_type": "code",
   "execution_count": null,
   "metadata": {},
   "outputs": [],
   "source": [
    "previous"
   ]
  },
  {
   "cell_type": "code",
   "execution_count": null,
   "metadata": {},
   "outputs": [],
   "source": [
    "cash"
   ]
  },
  {
   "cell_type": "code",
   "execution_count": null,
   "metadata": {},
   "outputs": [],
   "source": [
    "cash['SK_DPD'].describe()"
   ]
  },
  {
   "cell_type": "code",
   "execution_count": null,
   "metadata": {},
   "outputs": [],
   "source": [
    "installments"
   ]
  },
  {
   "cell_type": "code",
   "execution_count": null,
   "metadata": {},
   "outputs": [],
   "source": [
    "installments['BAD_PAYMENT_HC'] = installments['AMT_INSTALMENT'] != installments['AMT_PAYMENT']"
   ]
  },
  {
   "cell_type": "code",
   "execution_count": null,
   "metadata": {},
   "outputs": [],
   "source": [
    "installments['BAD_PAYMENT_HC'].describe()"
   ]
  },
  {
   "cell_type": "code",
   "execution_count": null,
   "metadata": {},
   "outputs": [],
   "source": [
    "bad_payment_hc_history = installments[['SK_ID_CURR', 'BAD_PAYMENT_HC']].groupby('SK_ID_CURR').count()"
   ]
  },
  {
   "cell_type": "code",
   "execution_count": null,
   "metadata": {},
   "outputs": [],
   "source": [
    "features = features.set_index('SK_ID_CURR').join(bad_payment_hc_history).sort_index()"
   ]
  },
  {
   "cell_type": "code",
   "execution_count": null,
   "metadata": {},
   "outputs": [],
   "source": [
    "previous"
   ]
  },
  {
   "cell_type": "code",
   "execution_count": null,
   "metadata": {},
   "outputs": [],
   "source": [
    "previous['CNT_PAYMENT']"
   ]
  },
  {
   "cell_type": "code",
   "execution_count": null,
   "metadata": {},
   "outputs": [],
   "source": [
    "previous['DAYS_TERMINATION'].describe()"
   ]
  },
  {
   "cell_type": "code",
   "execution_count": null,
   "metadata": {},
   "outputs": [],
   "source": [
    "previous['IS_ACTIVE'] = previous['DAYS_TERMINATION'].apply(lambda x: 1 if x > 0 else 0)"
   ]
  },
  {
   "cell_type": "code",
   "execution_count": null,
   "metadata": {},
   "outputs": [],
   "source": [
    "previous['IS_ACTIVE'].describe()"
   ]
  },
  {
   "cell_type": "code",
   "execution_count": null,
   "metadata": {},
   "outputs": [],
   "source": [
    "active_cred_hc = previous[['SK_ID_CURR', 'IS_ACTIVE']].groupby('SK_ID_CURR').sum()"
   ]
  },
  {
   "cell_type": "code",
   "execution_count": null,
   "metadata": {},
   "outputs": [],
   "source": [
    "features = features.join(active_cred_hc)"
   ]
  },
  {
   "cell_type": "code",
   "execution_count": null,
   "metadata": {},
   "outputs": [],
   "source": [
    "features.rename(columns={'IS_ACTIVE': 'ACTIVE_CRED_HC'}, inplace=True)"
   ]
  },
  {
   "cell_type": "code",
   "execution_count": null,
   "metadata": {},
   "outputs": [],
   "source": [
    "features"
   ]
  },
  {
   "cell_type": "code",
   "execution_count": null,
   "metadata": {},
   "outputs": [],
   "source": [
    "features.index"
   ]
  },
  {
   "cell_type": "code",
   "execution_count": null,
   "metadata": {},
   "outputs": [],
   "source": [
    "features['TOTAL_PREV_HC'] = previous[['SK_ID_CURR', 'IS_ACTIVE']].groupby('SK_ID_CURR').count()"
   ]
  },
  {
   "cell_type": "code",
   "execution_count": null,
   "metadata": {},
   "outputs": [],
   "source": [
    "features['TOTAL_PREV_HC'].describe()"
   ]
  },
  {
   "cell_type": "code",
   "execution_count": null,
   "metadata": {},
   "outputs": [],
   "source": [
    "features.describe()"
   ]
  },
  {
   "cell_type": "code",
   "execution_count": null,
   "metadata": {},
   "outputs": [],
   "source": [
    "features"
   ]
  },
  {
   "cell_type": "code",
   "execution_count": null,
   "metadata": {},
   "outputs": [],
   "source": [
    "features = features.join(app_train.set_index('SK_ID_CURR')['TARGET'])"
   ]
  },
  {
   "cell_type": "code",
   "execution_count": null,
   "metadata": {},
   "outputs": [],
   "source": [
    "features.to_csv('../data/processed/features.csv')"
   ]
  },
  {
   "cell_type": "code",
   "execution_count": null,
   "metadata": {},
   "outputs": [],
   "source": [
    "new_features = [\"CREDIT_ACTIVE_Active\",\n",
    "                \"CREDIT_ACTIVE_Closed\",\n",
    "                \"REPORTED_DPD\",\n",
    "                \"BAD_PAYMENT_HC\",\n",
    "                \"ACTIVE_CRED_HC\",\n",
    "                \"TOTAL_PREV_HC\"]\n",
    "for feature in new_features:\n",
    "    distplot(features[feature])"
   ]
  },
  {
   "cell_type": "markdown",
   "metadata": {},
   "source": [
    "### Baseline"
   ]
  },
  {
   "cell_type": "markdown",
   "metadata": {},
   "source": [
    "Add TARGET and make a logistic reg."
   ]
  },
  {
   "cell_type": "code",
   "execution_count": null,
   "metadata": {},
   "outputs": [],
   "source": [
    "from sklearn.preprocessing import LabelEncoder\n",
    "\n",
    "le_ = 0\n",
    "\n",
    "categ_var = list()\n",
    "label_encoders = dict()\n",
    "\n",
    "for col in features.columns:\n",
    "    if features[col].dtype.name == 'object':\n",
    "        if len(features[col].unique()) <= 2:\n",
    "            # label encoder\n",
    "            le = LabelEncoder()\n",
    "            print('Encoding %s' % col)\n",
    "            le.fit(features[col])\n",
    "            features[col] = le.transform(features[col])\n",
    "            le_ += 1\n",
    "            categ_var.append(col)\n",
    "            label_encoders[col] = le\n",
    "\n",
    "print(f\"{le_} columns encoded\")"
   ]
  },
  {
   "cell_type": "code",
   "execution_count": null,
   "metadata": {},
   "outputs": [],
   "source": [
    "for col in features.columns:\n",
    "    if col not in app_train.columns:\n",
    "        features[col].fillna(0, inplace=True)"
   ]
  },
  {
   "cell_type": "code",
   "execution_count": null,
   "metadata": {},
   "outputs": [],
   "source": [
    "features_ohe = pd.get_dummies(features)"
   ]
  },
  {
   "cell_type": "code",
   "execution_count": null,
   "metadata": {},
   "outputs": [],
   "source": [
    "features_le = features.copy()\n",
    "\n",
    "le_ = 0\n",
    "for col in features.columns:\n",
    "    if features[col].dtype.name == 'object':\n",
    "        if len(features[col].unique()) >= 2:\n",
    "            le = LabelEncoder()\n",
    "            # label encoder\n",
    "            print('Encoding %s' % col)\n",
    "            le.fit(features[col].astype(str))\n",
    "            features_le[col] = le.transform(features[col].astype(str))\n",
    "            le_ += 1\n",
    "            categ_var.append(col)\n",
    "            label_encoders[col] = le\n",
    "print(f\"{le_} columns encoded\")"
   ]
  },
  {
   "cell_type": "code",
   "execution_count": null,
   "metadata": {},
   "outputs": [],
   "source": [
    "features_le = features_le.join(app_train.set_index('SK_ID_CURR')['TARGET'])\n",
    "features_ohe = features_ohe.join(app_train.set_index('SK_ID_CURR')['TARGET'])"
   ]
  },
  {
   "cell_type": "code",
   "execution_count": null,
   "metadata": {},
   "outputs": [],
   "source": [
    "features_ohe"
   ]
  },
  {
   "cell_type": "markdown",
   "metadata": {},
   "source": [
    "#### Baseline Logistic reg"
   ]
  },
  {
   "cell_type": "code",
   "execution_count": null,
   "metadata": {},
   "outputs": [],
   "source": [
    "from sklearn.impute import SimpleImputer\n",
    "from sklearn.preprocessing import MinMaxScaler\n",
    "\n",
    "train = features_ohe[features_ohe['TARGET'].notna()].copy()\n",
    "test = features_ohe[features_ohe['TARGET'].isna()].copy()\n",
    "target = train['TARGET']\n",
    "train.drop(columns=['TARGET'], inplace=True)\n",
    "test.drop(columns=['TARGET'], inplace=True)\n",
    "\n",
    "\n",
    "imputer = SimpleImputer(strategy='constant', fill_value=0)\n",
    "scaler = MinMaxScaler(feature_range=(0, 1))\n",
    "imputer.fit(train)\n",
    "scaler.fit(train)\n",
    "\n",
    "train = imputer.transform(train)\n",
    "test = imputer.transform(test)\n",
    "\n",
    "train = scaler.transform(train)\n",
    "test = scaler.transform(test)\n",
    "\n",
    "features_names = list(features_ohe.drop(columns=['TARGET']).columns)\n",
    "\n",
    "print(f'train set shape : {train.shape}')\n",
    "print(f'test set shape : {test.shape}')"
   ]
  },
  {
   "cell_type": "code",
   "execution_count": null,
   "metadata": {},
   "outputs": [],
   "source": [
    "from sklearn.linear_model import LogisticRegression\n",
    "\n",
    "reg = LogisticRegression(C=1e-4)\n",
    "reg.fit(train, target)"
   ]
  },
  {
   "cell_type": "code",
   "execution_count": null,
   "metadata": {},
   "outputs": [],
   "source": [
    "baseline_results = app_test[['SK_ID_CURR']].copy()\n",
    "baseline_results['TARGET'] = reg.predict_proba(test)[:, 1]"
   ]
  },
  {
   "cell_type": "code",
   "execution_count": null,
   "metadata": {},
   "outputs": [],
   "source": [
    "path = os.path.join(os.path.abspath('../reports/'), 'logistic_reg_features_engineering_baseline.csv')\n",
    "baseline_results.to_csv(path, index=False)"
   ]
  },
  {
   "cell_type": "code",
   "execution_count": null,
   "metadata": {},
   "outputs": [],
   "source": [
    "features.to_csv('../data/interim/features.csv')"
   ]
  },
  {
   "cell_type": "markdown",
   "metadata": {},
   "source": [
    "#### Résultats:\n",
    "\n",
    "**ROC_AUC = 0.68867**"
   ]
  },
  {
   "cell_type": "markdown",
   "metadata": {},
   "source": [
    "### LightGBM"
   ]
  },
  {
   "cell_type": "code",
   "execution_count": null,
   "metadata": {},
   "outputs": [],
   "source": [
    "import lightgbm as lgb"
   ]
  },
  {
   "cell_type": "code",
   "execution_count": null,
   "metadata": {},
   "outputs": [],
   "source": [
    "features_le"
   ]
  },
  {
   "cell_type": "code",
   "execution_count": null,
   "metadata": {},
   "outputs": [],
   "source": [
    "from sklearn.impute import SimpleImputer\n",
    "from sklearn.preprocessing import MinMaxScaler\n",
    "\n",
    "train = features_le[features_le['TARGET'].notna()].copy()\n",
    "test = features_le[features_le['TARGET'].isna()].copy()\n",
    "target = train['TARGET']\n",
    "train.drop(columns=['TARGET'], inplace=True)\n",
    "test.drop(columns=['TARGET'], inplace=True)\n",
    "\n",
    "\n",
    "imputer = SimpleImputer(strategy='constant', fill_value=0)\n",
    "scaler = MinMaxScaler(feature_range=(0, 1))\n",
    "imputer.fit(train)\n",
    "scaler.fit(train)\n",
    "\n",
    "train = imputer.transform(train)\n",
    "test = imputer.transform(test)\n",
    "\n",
    "train = scaler.transform(train)\n",
    "test = scaler.transform(test)\n",
    "\n",
    "features_names = list(features_le.drop(columns=['TARGET']).columns)\n",
    "\n",
    "print(f'train set shape : {train.shape}')\n",
    "print(f'test set shape : {test.shape}')"
   ]
  },
  {
   "cell_type": "code",
   "execution_count": null,
   "metadata": {},
   "outputs": [],
   "source": [
    "features_le"
   ]
  },
  {
   "cell_type": "code",
   "execution_count": null,
   "metadata": {},
   "outputs": [],
   "source": [
    "pd.DataFrame(train, columns=features_names, index=app_train['SK_ID_CURR'])\\\n",
    "    .join(app_train[['SK_ID_CURR', 'TARGET']].set_index(\"SK_ID_CURR\"))"
   ]
  },
  {
   "cell_type": "code",
   "execution_count": null,
   "metadata": {},
   "outputs": [],
   "source": [
    "with open('../data/interim/scalers.pickle', 'wb') as f:\n",
    "    pickle.dump(scaler, f)"
   ]
  },
  {
   "cell_type": "code",
   "execution_count": null,
   "metadata": {},
   "outputs": [],
   "source": [
    "train_data = lgb.Dataset(train, label=target, \n",
    "                         feature_name=features_names,\n",
    "                         categorical_feature=categ_var)\n",
    "\n",
    "param = {'num_leaves': 31, 'objective': 'binary'}\n",
    "param['metric'] = 'auc'\n",
    "\n",
    "num_round = 100"
   ]
  },
  {
   "cell_type": "code",
   "execution_count": null,
   "metadata": {},
   "outputs": [],
   "source": [
    "bst = lgb.train(param, train_data, num_round)"
   ]
  },
  {
   "cell_type": "code",
   "execution_count": null,
   "metadata": {},
   "outputs": [],
   "source": [
    "baseline_results = app_test[['SK_ID_CURR']].copy()\n",
    "baseline_results['TARGET'] = bst.predict(test)\n",
    "path = os.path.join(os.path.abspath('../reports/'), 'lgbm.csv')\n",
    "baseline_results.to_csv(path, index=False)"
   ]
  },
  {
   "cell_type": "markdown",
   "metadata": {},
   "source": [
    "#### résultats: \n",
    "\n",
    "ROC_AUC = 0.72253"
   ]
  },
  {
   "cell_type": "code",
   "execution_count": null,
   "metadata": {},
   "outputs": [],
   "source": [
    "fig, ax = plt.subplots(1, figsize=(12, 8))\n",
    "lgb.plot_importance(bst, ignore_zero=False, ax=ax)"
   ]
  },
  {
   "cell_type": "markdown",
   "metadata": {},
   "source": [
    "### LightGBM optimization"
   ]
  },
  {
   "cell_type": "code",
   "execution_count": null,
   "metadata": {},
   "outputs": [],
   "source": [
    "from sklearn.model_selection import train_test_split\n",
    "\n",
    "X_train, X_test, y_train, y_test = train_test_split(train, target) "
   ]
  },
  {
   "cell_type": "code",
   "execution_count": null,
   "metadata": {},
   "outputs": [],
   "source": [
    "train_data = lgb.Dataset(X_train, label=y_train, feature_name=features_names)\n",
    "test_data = lgb.Dataset(X_test, label=y_test, feature_name=features_names, reference=train_data)"
   ]
  },
  {
   "cell_type": "code",
   "execution_count": null,
   "metadata": {},
   "outputs": [],
   "source": [
    "evals_results = dict()"
   ]
  },
  {
   "cell_type": "code",
   "execution_count": null,
   "metadata": {},
   "outputs": [],
   "source": [
    "param = {'num_leaves': 31, 'objective': 'binary'}\n",
    "param['metric'] = 'auc'\n",
    "\n",
    "num_round = 1000\n"
   ]
  },
  {
   "cell_type": "code",
   "execution_count": null,
   "metadata": {},
   "outputs": [],
   "source": [
    "bst = lgb.train(param, train_data, num_boost_round=num_round, \n",
    "                verbose_eval=1, evals_result=evals_results,\n",
    "                valid_sets=[train_data, test_data],\n",
    "                early_stopping_rounds=30)"
   ]
  },
  {
   "cell_type": "code",
   "execution_count": null,
   "metadata": {},
   "outputs": [],
   "source": [
    "fig, ax = plt.subplots(1, figsize=(12, 8))\n",
    "sns.lineplot(x=range(len(evals_results['training']['auc'])),\n",
    "             y=evals_results['training']['auc'], label='train')\n",
    "sns.lineplot(x=range(len(evals_results['valid_1']['auc'])),\n",
    "             y=evals_results['valid_1']['auc'], label='test')\n",
    "plt.legend()\n",
    "plt.show()"
   ]
  },
  {
   "cell_type": "code",
   "execution_count": null,
   "metadata": {},
   "outputs": [],
   "source": [
    "evals_results.keys()"
   ]
  },
  {
   "cell_type": "code",
   "execution_count": null,
   "metadata": {},
   "outputs": [],
   "source": [
    "baseline_results = app_test[['SK_ID_CURR']].copy()\n",
    "baseline_results['TARGET'] = bst.predict(test)\n",
    "path = os.path.join(os.path.abspath('../reports/'), 'lgbm_early_stop.csv')\n",
    "baseline_results.to_csv(path, index=False)"
   ]
  },
  {
   "cell_type": "markdown",
   "metadata": {},
   "source": [
    "### Résultats LightGBM \n",
    "\n",
    "**ROC_AUC = 0.73572**"
   ]
  },
  {
   "cell_type": "markdown",
   "metadata": {},
   "source": [
    "### Random forest"
   ]
  },
  {
   "cell_type": "code",
   "execution_count": null,
   "metadata": {},
   "outputs": [],
   "source": [
    "from sklearn.ensemble import RandomForestClassifier"
   ]
  },
  {
   "cell_type": "code",
   "execution_count": null,
   "metadata": {},
   "outputs": [],
   "source": [
    "train = features_ohe[features_ohe['TARGET'].notna()].copy()\n",
    "test = features_ohe[features_ohe['TARGET'].isna()].copy()\n",
    "target = train['TARGET']\n",
    "train.drop(columns=['TARGET'], inplace=True)\n",
    "test.drop(columns=['TARGET'], inplace=True)\n",
    "\n",
    "\n",
    "imputer = SimpleImputer(strategy='constant', fill_value=0)\n",
    "scaler = MinMaxScaler(feature_range=(0, 1))\n",
    "imputer.fit(train)\n",
    "scaler.fit(train)\n",
    "\n",
    "train = imputer.transform(train)\n",
    "test = imputer.transform(test)\n",
    "\n",
    "train = scaler.transform(train)\n",
    "test = scaler.transform(test)\n",
    "\n",
    "features_names = list(features_ohe.drop(columns=['TARGET']).columns)"
   ]
  },
  {
   "cell_type": "code",
   "execution_count": null,
   "metadata": {},
   "outputs": [],
   "source": [
    "X_train, X_test, y_train, y_test = train_test_split(train, target) \n",
    "clf = RandomForestClassifier()"
   ]
  },
  {
   "cell_type": "code",
   "execution_count": null,
   "metadata": {},
   "outputs": [],
   "source": [
    "clf"
   ]
  },
  {
   "cell_type": "code",
   "execution_count": null,
   "metadata": {},
   "outputs": [],
   "source": [
    "clf.fit(X_train, y_train)"
   ]
  },
  {
   "cell_type": "code",
   "execution_count": null,
   "metadata": {},
   "outputs": [],
   "source": [
    "res = clf.predict_proba(X_test)"
   ]
  },
  {
   "cell_type": "code",
   "execution_count": null,
   "metadata": {},
   "outputs": [],
   "source": [
    "from sklearn.metrics import roc_auc_score"
   ]
  },
  {
   "cell_type": "code",
   "execution_count": null,
   "metadata": {},
   "outputs": [],
   "source": [
    "y_test"
   ]
  },
  {
   "cell_type": "code",
   "execution_count": null,
   "metadata": {},
   "outputs": [],
   "source": [
    "roc_auc_score(y_test.values, res[:, 1])"
   ]
  },
  {
   "cell_type": "markdown",
   "metadata": {},
   "source": [
    "### Interprétabilité du modèle"
   ]
  },
  {
   "cell_type": "code",
   "execution_count": null,
   "metadata": {},
   "outputs": [],
   "source": [
    "import shap\n",
    "\n",
    "shap.initjs()"
   ]
  },
  {
   "cell_type": "code",
   "execution_count": null,
   "metadata": {},
   "outputs": [],
   "source": [
    "train = features_le[features_le['TARGET'].notna()].copy()\n",
    "sample_data = pd.DataFrame(train.drop(columns=['TARGET']), \n",
    "                           columns=features_names).sample(100, random_state=100)\n",
    "index = sample_data.index\n",
    "sample_data = MinMaxScaler(feature_range=[0, 1]).fit_transform(sample_data)\n",
    "sample_data = SimpleImputer(strategy='constant', fill_value=0).fit_transform(sample_data)\n",
    "sample_data = pd.DataFrame(sample_data, columns=features_names, index=index)\n",
    "explainer = shap.TreeExplainer(bst, data=sample_data, model_output='probability')\n",
    "shap_values = explainer.shap_values(sample_data)"
   ]
  },
  {
   "cell_type": "code",
   "execution_count": null,
   "metadata": {},
   "outputs": [],
   "source": [
    "sample_data"
   ]
  },
  {
   "cell_type": "code",
   "execution_count": null,
   "metadata": {},
   "outputs": [],
   "source": [
    "shap_values.shape"
   ]
  },
  {
   "cell_type": "code",
   "execution_count": null,
   "metadata": {},
   "outputs": [],
   "source": [
    "sample_data.shape"
   ]
  },
  {
   "cell_type": "code",
   "execution_count": null,
   "metadata": {},
   "outputs": [],
   "source": [
    "shap.summary_plot(shap_values, features=sample_data, feature_names=features_names)"
   ]
  },
  {
   "cell_type": "code",
   "execution_count": null,
   "metadata": {},
   "outputs": [],
   "source": [
    "explainer.expected_value"
   ]
  },
  {
   "cell_type": "code",
   "execution_count": null,
   "metadata": {},
   "outputs": [],
   "source": [
    "shap.force_plot(explainer.expected_value,\n",
    "                shap_values[0,:], features=sample_data.iloc[0, :])"
   ]
  },
  {
   "cell_type": "code",
   "execution_count": null,
   "metadata": {},
   "outputs": [],
   "source": [
    "app_train[app_train['SK_ID_CURR'] == 362145]"
   ]
  },
  {
   "cell_type": "code",
   "execution_count": null,
   "metadata": {},
   "outputs": [],
   "source": [
    "shap.force_plot(explainer.expected_value,\n",
    "                shap_values, features=sample_data)"
   ]
  },
  {
   "cell_type": "code",
   "execution_count": null,
   "metadata": {},
   "outputs": [],
   "source": [
    "features_le.to_csv('../data/processed/features.csv')"
   ]
  },
  {
   "cell_type": "code",
   "execution_count": null,
   "metadata": {},
   "outputs": [],
   "source": [
    "categ_var"
   ]
  },
  {
   "cell_type": "code",
   "execution_count": null,
   "metadata": {},
   "outputs": [],
   "source": [
    "bst.save_model('../models/booster_V0.txt')"
   ]
  },
  {
   "cell_type": "code",
   "execution_count": null,
   "metadata": {},
   "outputs": [],
   "source": [
    "features_le"
   ]
  }
 ],
 "metadata": {
  "kernelspec": {
   "display_name": "credit_risk",
   "language": "python",
   "name": "credit_risk"
  },
  "language_info": {
   "codemirror_mode": {
    "name": "ipython",
    "version": 3
   },
   "file_extension": ".py",
   "mimetype": "text/x-python",
   "name": "python",
   "nbconvert_exporter": "python",
   "pygments_lexer": "ipython3",
   "version": "3.7.4"
  },
  "toc": {
   "base_numbering": 1,
   "nav_menu": {},
   "number_sections": true,
   "sideBar": true,
   "skip_h1_title": false,
   "title_cell": "Table of Contents",
   "title_sidebar": "Contents",
   "toc_cell": false,
   "toc_position": {},
   "toc_section_display": true,
   "toc_window_display": false
  },
  "varInspector": {
   "cols": {
    "lenName": 16,
    "lenType": 16,
    "lenVar": 40
   },
   "kernels_config": {
    "python": {
     "delete_cmd_postfix": "",
     "delete_cmd_prefix": "del ",
     "library": "var_list.py",
     "varRefreshCmd": "print(var_dic_list())"
    },
    "r": {
     "delete_cmd_postfix": ") ",
     "delete_cmd_prefix": "rm(",
     "library": "var_list.r",
     "varRefreshCmd": "cat(var_dic_list()) "
    }
   },
   "types_to_exclude": [
    "module",
    "function",
    "builtin_function_or_method",
    "instance",
    "_Feature"
   ],
   "window_display": false
  }
 },
 "nbformat": 4,
 "nbformat_minor": 2
}
