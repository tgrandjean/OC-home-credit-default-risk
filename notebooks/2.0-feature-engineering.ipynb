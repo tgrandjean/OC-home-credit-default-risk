{
 "cells": [
  {
   "cell_type": "code",
   "execution_count": null,
   "metadata": {},
   "outputs": [],
   "source": [
    "import os\n",
    "\n",
    "import numpy as np\n",
    "import pandas as pd\n",
    "import featuretools as ft\n",
    "import matplotlib.pyplot as plt\n",
    "import seaborn as sns\n",
    "import missingno as msno\n",
    "\n",
    "sns.set()"
   ]
  },
  {
   "cell_type": "code",
   "execution_count": null,
   "metadata": {},
   "outputs": [],
   "source": [
    "data = dict()\n",
    "for dirname, _, filenames in os.walk('../data/raw'):\n",
    "    for filename in filenames:\n",
    "        print(filename)"
   ]
  },
  {
   "cell_type": "code",
   "execution_count": null,
   "metadata": {},
   "outputs": [],
   "source": [
    "app_train = pd.read_csv('../data/raw/application_train.csv', nrows=10000)\\\n",
    "    .sort_values('SK_ID_CURR')\\\n",
    "    .reset_index(drop=True)\n",
    "app_test = pd.read_csv('../data/raw/application_test.csv', nrows=10000)\\\n",
    "    .sort_values('SK_ID_CURR')\\\n",
    "    .reset_index(drop=True)\n",
    "bureau = pd.read_csv('../data/raw/bureau.csv', nrows=10000)\\\n",
    "    .sort_values(['SK_ID_CURR', 'SK_ID_BUREAU'])\\\n",
    "    .reset_index(drop=True)\n",
    "bureau_balance = pd.read_csv('../data/raw/bureau_balance.csv', nrows=10000)\\\n",
    "    .sort_values('SK_ID_BUREAU')\\\n",
    "    .reset_index(drop=True)\n",
    "cash = pd.read_csv('../data/raw/POS_CASH_balance.csv', nrows=10000)\\\n",
    "    .sort_values(['SK_ID_CURR', 'SK_ID_PREV'])\\\n",
    "    .reset_index(drop=True)\n",
    "credit = pd.read_csv('../data/raw/credit_card_balance.csv', nrows=10000)\\\n",
    "    .sort_values(['SK_ID_CURR', 'SK_ID_PREV'])\\\n",
    "    .reset_index(drop=True)\n",
    "previous = pd.read_csv('../data/raw/previous_application.csv', nrows=10000)\\\n",
    "    .sort_values(['SK_ID_CURR', 'SK_ID_PREV'])\\\n",
    "    .reset_index(drop=True)\n",
    "installments = pd.read_csv('../data/raw/installments_payments.csv', nrows=10000)\\\n",
    "    .sort_values(['SK_ID_CURR', 'SK_ID_PREV'])\\\n",
    "    .reset_index(drop=True)"
   ]
  },
  {
   "cell_type": "code",
   "execution_count": null,
   "metadata": {},
   "outputs": [],
   "source": [
    "bureau_balance.shape"
   ]
  },
  {
   "cell_type": "code",
   "execution_count": null,
   "metadata": {},
   "outputs": [],
   "source": [
    "bureau.head()"
   ]
  },
  {
   "cell_type": "code",
   "execution_count": null,
   "metadata": {},
   "outputs": [],
   "source": [
    "app_train['set'] = 'train'\n",
    "app_test['set'] = 'test'\n",
    "app_test[\"TARGET\"] = np.nan"
   ]
  },
  {
   "cell_type": "code",
   "execution_count": null,
   "metadata": {},
   "outputs": [],
   "source": [
    "# Append the dataframes\n",
    "app = app_train"
   ]
  },
  {
   "cell_type": "code",
   "execution_count": null,
   "metadata": {},
   "outputs": [],
   "source": [
    "# Entity set with id applications\n",
    "es = ft.EntitySet(id='clients')"
   ]
  },
  {
   "cell_type": "code",
   "execution_count": null,
   "metadata": {},
   "outputs": [],
   "source": [
    "es = es.entity_from_dataframe(entity_id='app', dataframe=app, index='SK_ID_CURR')\n",
    "es = es.entity_from_dataframe(entity_id='bureau', dataframe=bureau, index='SK_ID_BUREAU')\n",
    "es = es.entity_from_dataframe(entity_id='previous', dataframe=previous, index='SK_ID_PREV')\n",
    "es = es.entity_from_dataframe(entity_id='bureau_balance', \n",
    "                              dataframe=bureau_balance,\n",
    "                              index='SK_ID_BURR',\n",
    "                             )\n",
    "es = es.entity_from_dataframe(entity_id='cash', \n",
    "                              dataframe=cash, \n",
    "                              index='cash_index')\n",
    "es = es.entity_from_dataframe(entity_id='installments', \n",
    "                              dataframe=installments, \n",
    "                              index='installments_index')\n",
    "es = es.entity_from_dataframe(entity_id='credit', \n",
    "                              dataframe=credit, \n",
    "                              index='credit_index')"
   ]
  },
  {
   "cell_type": "code",
   "execution_count": null,
   "metadata": {},
   "outputs": [],
   "source": [
    "r_app_bureau = ft.Relationship(es['app']['SK_ID_CURR'], es['bureau']['SK_ID_CURR'])\n",
    "r_app_previous = ft.Relationship(es['app']['SK_ID_CURR'], es['previous']['SK_ID_CURR'])\n",
    "r_previous_cash = ft.Relationship(es['previous']['SK_ID_PREV'], es['cash']['SK_ID_PREV'])\n",
    "\n",
    "r_previous_installments = ft.Relationship(es['previous']['SK_ID_PREV'], es['installments']['SK_ID_PREV'])\n",
    "r_previous_credit = ft.Relationship(es['previous']['SK_ID_PREV'], es['credit']['SK_ID_PREV'])\n",
    "r_bureau_balance = ft.Relationship(es['bureau']['SK_ID_BUREAU'], es['bureau_balance']['SK_ID_BUREAU'])\n"
   ]
  },
  {
   "cell_type": "code",
   "execution_count": null,
   "metadata": {},
   "outputs": [],
   "source": [
    "es.add_relationships([r_app_bureau,\n",
    "                      r_app_previous,\n",
    "                      r_previous_cash,\n",
    "                      r_previous_installments,\n",
    "                      r_previous_credit,\n",
    "                      r_bureau_balance])"
   ]
  },
  {
   "cell_type": "code",
   "execution_count": null,
   "metadata": {},
   "outputs": [],
   "source": [
    "feature_matrix_client, features_defs = ft.dfs(entityset=es, target_entity='app', verbose=True)"
   ]
  },
  {
   "cell_type": "code",
   "execution_count": null,
   "metadata": {},
   "outputs": [],
   "source": [
    "feature_matrix_client"
   ]
  },
  {
   "cell_type": "code",
   "execution_count": null,
   "metadata": {},
   "outputs": [],
   "source": [
    "features_defs"
   ]
  },
  {
   "cell_type": "code",
   "execution_count": null,
   "metadata": {},
   "outputs": [],
   "source": [
    "corr = feature_matrix_client[feature_matrix_client['TARGET'].notna()].corr()"
   ]
  },
  {
   "cell_type": "code",
   "execution_count": null,
   "metadata": {},
   "outputs": [],
   "source": [
    "corr.sort_values('TARGET', inplace=True)"
   ]
  },
  {
   "cell_type": "code",
   "execution_count": null,
   "metadata": {},
   "outputs": [],
   "source": [
    "corr['TARGET'].head(15)"
   ]
  },
  {
   "cell_type": "code",
   "execution_count": null,
   "metadata": {},
   "outputs": [],
   "source": [
    "corr['TARGET'].dropna().tail(15)"
   ]
  },
  {
   "cell_type": "code",
   "execution_count": null,
   "metadata": {},
   "outputs": [],
   "source": [
    "corr['TARGET'].dropna().shape"
   ]
  },
  {
   "cell_type": "code",
   "execution_count": null,
   "metadata": {},
   "outputs": [],
   "source": [
    "def kde_target_plot(df, feature):\n",
    "    \"\"\"Kernel density estimate plot of a feature colored\n",
    "    by value of the target.\"\"\"\n",
    "    \n",
    "    # Need to reset index for loc to workBU\n",
    "    df = df.reset_index()\n",
    "    plt.figure(figsize = (10, 6))\n",
    "    plt.style.use('fivethirtyeight')\n",
    "    \n",
    "    # plot repaid loans\n",
    "    sns.kdeplot(df.loc[df['TARGET'] == 0, feature], label = 'target == 0')\n",
    "    # plot loans that were not repaid\n",
    "    sns.kdeplot(df.loc[df['TARGET'] == 1, feature], label = 'target == 1')\n",
    "    \n",
    "    # Label the plots\n",
    "    plt.title('Distribution of Feature by Target Value')\n",
    "    plt.xlabel('%s' % feature); plt.ylabel('Density');\n",
    "    plt.show()"
   ]
  },
  {
   "cell_type": "code",
   "execution_count": null,
   "metadata": {},
   "outputs": [],
   "source": [
    "corr['TARGET'].dropna()[corr['TARGET'] != 0]"
   ]
  },
  {
   "cell_type": "markdown",
   "metadata": {},
   "source": [
    "Attention à la colinéarité"
   ]
  },
  {
   "cell_type": "markdown",
   "metadata": {},
   "source": [
    "On recharge les données intégralement"
   ]
  },
  {
   "cell_type": "code",
   "execution_count": null,
   "metadata": {},
   "outputs": [],
   "source": [
    "app_train = pd.read_csv('../data/raw/application_train.csv')\\\n",
    "    .sort_values('SK_ID_CURR')\\\n",
    "    .reset_index(drop=True)\n",
    "app_test = pd.read_csv('../data/raw/application_test.csv')\\\n",
    "    .sort_values('SK_ID_CURR')\\\n",
    "    .reset_index(drop=True)\n",
    "bureau = pd.read_csv('../data/raw/bureau.csv')\\\n",
    "    .sort_values(['SK_ID_CURR', 'SK_ID_BUREAU'])\\\n",
    "    .reset_index(drop=True)\n",
    "bureau_balance = pd.read_csv('../data/raw/bureau_balance.csv')\\\n",
    "    .sort_values('SK_ID_BUREAU')\\\n",
    "    .reset_index(drop=True)\n",
    "cash = pd.read_csv('../data/raw/POS_CASH_balance.csv')\\\n",
    "    .sort_values(['SK_ID_CURR', 'SK_ID_PREV'])\\\n",
    "    .reset_index(drop=True)\n",
    "credit = pd.read_csv('../data/raw/credit_card_balance.csv')\\\n",
    "    .sort_values(['SK_ID_CURR', 'SK_ID_PREV'])\\\n",
    "    .reset_index(drop=True)\n",
    "previous = pd.read_csv('../data/raw/previous_application.csv')\\\n",
    "    .sort_values(['SK_ID_CURR', 'SK_ID_PREV'])\\\n",
    "    .reset_index(drop=True)\n",
    "installments = pd.read_csv('../data/raw/installments_payments.csv')\\\n",
    "    .sort_values(['SK_ID_CURR', 'SK_ID_PREV'])\\\n",
    "    .reset_index(drop=True)"
   ]
  },
  {
   "cell_type": "markdown",
   "metadata": {},
   "source": [
    "## Manual feature engineering"
   ]
  },
  {
   "cell_type": "code",
   "execution_count": null,
   "metadata": {},
   "outputs": [],
   "source": [
    "features = app_train[['SK_ID_CURR', \n",
    "                      'DAYS_BIRTH', # Age\n",
    "                      'CODE_GENDER', # Sex\n",
    "                      'OCCUPATION_TYPE', # Job\n",
    "                      'AMT_INCOME_TOTAL', # Revenues\n",
    "                      'AMT_CREDIT', # Credit amount\n",
    "                      'NAME_CONTRACT_TYPE', # Contract type, Cash/Revolving\n",
    "                      'AMT_ANNUITY', # Annuity amount\n",
    "                      'EXT_SOURCE_1',\n",
    "                      'EXT_SOURCE_2',\n",
    "                      'EXT_SOURCE_3',\n",
    "                     ]]\n",
    "\n",
    "features_test = app_test[['SK_ID_CURR', \n",
    "                          'DAYS_BIRTH', # Age\n",
    "                          'CODE_GENDER', # Sex\n",
    "                          'OCCUPATION_TYPE', # Job\n",
    "                          'AMT_INCOME_TOTAL', # Revenues\n",
    "                          'AMT_CREDIT', # Credit amount\n",
    "                          'NAME_CONTRACT_TYPE', # Contract type, Cash/Revolving\n",
    "                          'AMT_ANNUITY', # Annuity amount\n",
    "                          'EXT_SOURCE_1',\n",
    "                          'EXT_SOURCE_2',\n",
    "                          'EXT_SOURCE_3',\n",
    "                         ]]"
   ]
  },
  {
   "cell_type": "code",
   "execution_count": null,
   "metadata": {},
   "outputs": [],
   "source": [
    "features = pd.concat([features, features_test], axis=0)"
   ]
  },
  {
   "cell_type": "code",
   "execution_count": null,
   "metadata": {},
   "outputs": [],
   "source": [
    "features.shape"
   ]
  },
  {
   "cell_type": "code",
   "execution_count": null,
   "metadata": {},
   "outputs": [],
   "source": [
    "features"
   ]
  },
  {
   "cell_type": "markdown",
   "metadata": {},
   "source": [
    "### payment default"
   ]
  },
  {
   "cell_type": "code",
   "execution_count": null,
   "metadata": {},
   "outputs": [],
   "source": [
    "bureau"
   ]
  },
  {
   "cell_type": "code",
   "execution_count": null,
   "metadata": {},
   "outputs": [],
   "source": [
    "bureau = bureau.set_index('SK_ID_BUREAU').join(pd.get_dummies(bureau.set_index('SK_ID_BUREAU')['CREDIT_ACTIVE'], prefix='CREDIT_ACTIVE'))"
   ]
  },
  {
   "cell_type": "code",
   "execution_count": null,
   "metadata": {},
   "outputs": [],
   "source": [
    "bureau[bureau['SK_ID_CURR'] == 456116]"
   ]
  },
  {
   "cell_type": "code",
   "execution_count": null,
   "metadata": {},
   "outputs": [],
   "source": [
    "bureau_balance['STATUS'].replace('C', 0, inplace=True)\n",
    "bureau_balance['STATUS'].replace('X', 0, inplace=True)\n",
    "bureau_balance['STATUS'] = bureau_balance['STATUS'].astype('int')"
   ]
  },
  {
   "cell_type": "code",
   "execution_count": null,
   "metadata": {},
   "outputs": [],
   "source": [
    "count_late = bureau_balance.groupby('SK_ID_BUREAU')['STATUS'].sum()"
   ]
  },
  {
   "cell_type": "code",
   "execution_count": null,
   "metadata": {},
   "outputs": [],
   "source": [
    "count_late.describe()"
   ]
  },
  {
   "cell_type": "code",
   "execution_count": null,
   "metadata": {},
   "outputs": [],
   "source": [
    "count_late.astype('bool').describe()"
   ]
  },
  {
   "cell_type": "code",
   "execution_count": null,
   "metadata": {},
   "outputs": [],
   "source": [
    "bureau = pd.merge(bureau, count_late, left_on='SK_ID_BUREAU', right_on='SK_ID_BUREAU')\n",
    "bureau.rename(columns={\"STATUS\": 'REPORTED_DPD'}, inplace=True)"
   ]
  },
  {
   "cell_type": "code",
   "execution_count": null,
   "metadata": {},
   "outputs": [],
   "source": [
    "bureau[[x for x in bureau.columns if x.startswith('CREDIT_ACTIVE_')] + ['SK_ID_CURR', 'REPORTED_DPD']].groupby('SK_ID_CURR').sum()"
   ]
  },
  {
   "cell_type": "code",
   "execution_count": null,
   "metadata": {},
   "outputs": [],
   "source": [
    "bureau_history = bureau[[x for x in bureau.columns if x.startswith('CREDIT_ACTIVE_')] + ['SK_ID_CURR', 'REPORTED_DPD']].groupby('SK_ID_CURR').sum()\n",
    "features = features.set_index('SK_ID_CURR').join(bureau_history).reset_index()"
   ]
  },
  {
   "cell_type": "code",
   "execution_count": null,
   "metadata": {},
   "outputs": [],
   "source": [
    "features"
   ]
  },
  {
   "cell_type": "code",
   "execution_count": null,
   "metadata": {},
   "outputs": [],
   "source": [
    "features.join(app_train['TARGET'])"
   ]
  },
  {
   "cell_type": "markdown",
   "metadata": {},
   "source": [
    "### payment default from HC"
   ]
  },
  {
   "cell_type": "code",
   "execution_count": null,
   "metadata": {},
   "outputs": [],
   "source": [
    "previous"
   ]
  },
  {
   "cell_type": "code",
   "execution_count": null,
   "metadata": {},
   "outputs": [],
   "source": [
    "cash"
   ]
  },
  {
   "cell_type": "code",
   "execution_count": null,
   "metadata": {},
   "outputs": [],
   "source": [
    "cash['SK_DPD'].describe()"
   ]
  },
  {
   "cell_type": "code",
   "execution_count": null,
   "metadata": {},
   "outputs": [],
   "source": [
    "installments"
   ]
  },
  {
   "cell_type": "code",
   "execution_count": null,
   "metadata": {},
   "outputs": [],
   "source": [
    "installments['BAD_PAYMENT_HC'] = installments['AMT_INSTALMENT'] != installments['AMT_PAYMENT']"
   ]
  },
  {
   "cell_type": "code",
   "execution_count": null,
   "metadata": {},
   "outputs": [],
   "source": [
    "installments['BAD_PAYMENT_HC'].describe()"
   ]
  },
  {
   "cell_type": "code",
   "execution_count": null,
   "metadata": {},
   "outputs": [],
   "source": [
    "bad_payment_hc_history = installments[['SK_ID_CURR', 'BAD_PAYMENT_HC']].groupby('SK_ID_CURR').count()"
   ]
  },
  {
   "cell_type": "code",
   "execution_count": null,
   "metadata": {},
   "outputs": [],
   "source": [
    "features = features.set_index('SK_ID_CURR').join(bad_payment_hc_history).sort_index()"
   ]
  },
  {
   "cell_type": "code",
   "execution_count": null,
   "metadata": {},
   "outputs": [],
   "source": [
    "previous"
   ]
  },
  {
   "cell_type": "code",
   "execution_count": null,
   "metadata": {},
   "outputs": [],
   "source": [
    "previous['CNT_PAYMENT']"
   ]
  },
  {
   "cell_type": "code",
   "execution_count": null,
   "metadata": {},
   "outputs": [],
   "source": [
    "previous['DAYS_TERMINATION'].describe()"
   ]
  },
  {
   "cell_type": "code",
   "execution_count": null,
   "metadata": {},
   "outputs": [],
   "source": [
    "previous['IS_ACTIVE'] = previous['DAYS_TERMINATION'].apply(lambda x: 1 if x > 0 else 0)"
   ]
  },
  {
   "cell_type": "code",
   "execution_count": null,
   "metadata": {},
   "outputs": [],
   "source": [
    "previous['IS_ACTIVE'].describe()"
   ]
  },
  {
   "cell_type": "code",
   "execution_count": null,
   "metadata": {},
   "outputs": [],
   "source": [
    "active_cred_hc = previous[['SK_ID_CURR', 'IS_ACTIVE']].groupby('SK_ID_CURR').sum()"
   ]
  },
  {
   "cell_type": "code",
   "execution_count": null,
   "metadata": {},
   "outputs": [],
   "source": [
    "features = features.join(active_cred_hc)"
   ]
  },
  {
   "cell_type": "code",
   "execution_count": null,
   "metadata": {},
   "outputs": [],
   "source": [
    "features.rename(columns={'IS_ACTIVE': 'ACTIVE_CRED_HC'}, inplace=True)"
   ]
  },
  {
   "cell_type": "code",
   "execution_count": null,
   "metadata": {},
   "outputs": [],
   "source": [
    "features"
   ]
  },
  {
   "cell_type": "code",
   "execution_count": null,
   "metadata": {},
   "outputs": [],
   "source": [
    "features['TOTAL_PREV_HC'] = previous[['SK_ID_CURR', 'IS_ACTIVE']].groupby('SK_ID_CURR').count()"
   ]
  },
  {
   "cell_type": "code",
   "execution_count": null,
   "metadata": {},
   "outputs": [],
   "source": [
    "features['TOTAL_PREV_HC'].describe()"
   ]
  },
  {
   "cell_type": "code",
   "execution_count": null,
   "metadata": {},
   "outputs": [],
   "source": [
    "features.describe()"
   ]
  },
  {
   "cell_type": "markdown",
   "metadata": {},
   "source": [
    "Add TARGET and make a logistic reg."
   ]
  },
  {
   "cell_type": "code",
   "execution_count": null,
   "metadata": {},
   "outputs": [],
   "source": [
    "from sklearn.preprocessing import LabelEncoder\n",
    "\n",
    "le = LabelEncoder()\n",
    "le_ = 0\n",
    "\n",
    "for col in features.columns:\n",
    "    if features[col].dtype.name == 'object':\n",
    "        if len(features[col].unique()) <= 2:\n",
    "            # label encoder\n",
    "            print('Encoding %s' % col)\n",
    "            le.fit(features[col])\n",
    "            features[col] = le.transform(features[col])\n",
    "            le_ += 1\n",
    "\n",
    "print(f\"{le_} columns encoded\")"
   ]
  },
  {
   "cell_type": "code",
   "execution_count": null,
   "metadata": {},
   "outputs": [],
   "source": [
    "features = pd.get_dummies(features)"
   ]
  },
  {
   "cell_type": "code",
   "execution_count": null,
   "metadata": {},
   "outputs": [],
   "source": [
    "features"
   ]
  },
  {
   "cell_type": "code",
   "execution_count": null,
   "metadata": {},
   "outputs": [],
   "source": [
    "features = features.join(app_train.set_index('SK_ID_CURR')['TARGET'])"
   ]
  },
  {
   "cell_type": "code",
   "execution_count": null,
   "metadata": {},
   "outputs": [],
   "source": [
    "features"
   ]
  },
  {
   "cell_type": "code",
   "execution_count": null,
   "metadata": {},
   "outputs": [],
   "source": [
    "from sklearn.impute import SimpleImputer\n",
    "from sklearn.preprocessing import MinMaxScaler\n",
    "\n",
    "train = features[features['TARGET'].notna()].copy()\n",
    "test = features[features['TARGET'].isna()].copy()\n",
    "target = train['TARGET']\n",
    "train.drop(columns=['TARGET'], inplace=True)\n",
    "test.drop(columns=['TARGET'], inplace=True)\n",
    "\n",
    "\n",
    "imputer = SimpleImputer(strategy='median')\n",
    "scaler = MinMaxScaler(feature_range=(0, 1))\n",
    "imputer.fit(train)\n",
    "scaler.fit(train)\n",
    "\n",
    "train = imputer.transform(train)\n",
    "test = imputer.transform(test)\n",
    "\n",
    "train = scaler.transform(train)\n",
    "test = scaler.transform(test)\n",
    "\n",
    "features_names = list(features.drop(columns=['TARGET']).columns)\n",
    "\n",
    "print(f'train set shape : {train.shape}')\n",
    "print(f'test set shape : {test.shape}')"
   ]
  },
  {
   "cell_type": "code",
   "execution_count": null,
   "metadata": {},
   "outputs": [],
   "source": [
    "from sklearn.linear_model import LogisticRegression\n",
    "\n",
    "reg = LogisticRegression(C=1e-4)\n",
    "reg.fit(train, target)"
   ]
  },
  {
   "cell_type": "code",
   "execution_count": null,
   "metadata": {},
   "outputs": [],
   "source": [
    "baseline_results = app_test[['SK_ID_CURR']]\n",
    "baseline_results['TARGET'] = reg.predict_proba(test)[:, 1]"
   ]
  },
  {
   "cell_type": "code",
   "execution_count": null,
   "metadata": {},
   "outputs": [],
   "source": [
    "path = os.path.join(os.path.abspath('../reports/'), 'logistic_reg_features_engineering_baseline.csv')\n",
    "baseline_results.to_csv(path, index=False)"
   ]
  },
  {
   "cell_type": "markdown",
   "metadata": {},
   "source": [
    "Résultats:\n",
    "\n",
    "ROC_AUC = 0.68867"
   ]
  },
  {
   "cell_type": "code",
   "execution_count": null,
   "metadata": {},
   "outputs": [],
   "source": [
    "import lightgbm as lgb"
   ]
  },
  {
   "cell_type": "code",
   "execution_count": null,
   "metadata": {},
   "outputs": [],
   "source": [
    "train_data = lgb.Dataset(train, label=target, feature_name=features_names)"
   ]
  },
  {
   "cell_type": "code",
   "execution_count": null,
   "metadata": {},
   "outputs": [],
   "source": [
    "param = {'num_leaves': 31, 'objective': 'binary'}\n",
    "param['metric'] = 'auc'\n",
    "\n",
    "num_round = 10\n",
    "bst = lgb.train(param, train_data, num_round)"
   ]
  },
  {
   "cell_type": "code",
   "execution_count": null,
   "metadata": {},
   "outputs": [],
   "source": [
    "ypred = bst.predict(test)"
   ]
  },
  {
   "cell_type": "code",
   "execution_count": null,
   "metadata": {},
   "outputs": [],
   "source": [
    "baseline_results = app_test[['SK_ID_CURR']]\n",
    "baseline_results['TARGET'] = ypred\n",
    "path = os.path.join(os.path.abspath('../reports/'), 'lgbm.csv')\n",
    "baseline_results.to_csv(path, index=False)"
   ]
  },
  {
   "cell_type": "markdown",
   "metadata": {},
   "source": [
    "score: \n",
    "\n",
    "ROC_AUC = 0.72253"
   ]
  },
  {
   "cell_type": "code",
   "execution_count": null,
   "metadata": {},
   "outputs": [],
   "source": [
    "import shap\n",
    "\n",
    "shap.initjs()"
   ]
  },
  {
   "cell_type": "code",
   "execution_count": null,
   "metadata": {},
   "outputs": [],
   "source": [
    "sample_data = pd.DataFrame(train, columns=features_names).sample(100)\n",
    "explainer = shap.TreeExplainer(bst, data=sample_data, model_output='probability')\n",
    "shap_values = explainer.shap_values(sample_data)"
   ]
  },
  {
   "cell_type": "code",
   "execution_count": null,
   "metadata": {},
   "outputs": [],
   "source": [
    "shap_values.shape"
   ]
  },
  {
   "cell_type": "code",
   "execution_count": null,
   "metadata": {},
   "outputs": [],
   "source": [
    "sample_data.shape"
   ]
  },
  {
   "cell_type": "code",
   "execution_count": null,
   "metadata": {},
   "outputs": [],
   "source": [
    "shap.summary_plot(shap_values, feature_names=features_names)"
   ]
  },
  {
   "cell_type": "code",
   "execution_count": null,
   "metadata": {},
   "outputs": [],
   "source": [
    "explainer.expected_value"
   ]
  },
  {
   "cell_type": "code",
   "execution_count": null,
   "metadata": {},
   "outputs": [],
   "source": [
    "shap.force_plot(explainer.expected_value,\n",
    "                shap_values[0,:], features=sample_data.iloc[0, :])"
   ]
  },
  {
   "cell_type": "code",
   "execution_count": null,
   "metadata": {},
   "outputs": [],
   "source": [
    "shap.force_plot(explainer.expected_value,\n",
    "                shap_values[10,:], features=sample_data.iloc[10, :])"
   ]
  },
  {
   "cell_type": "code",
   "execution_count": null,
   "metadata": {},
   "outputs": [],
   "source": [
    "shap.force_plot(explainer.expected_value,\n",
    "                shap_values, features=sample_data)"
   ]
  },
  {
   "cell_type": "code",
   "execution_count": null,
   "metadata": {},
   "outputs": [],
   "source": []
  }
 ],
 "metadata": {
  "kernelspec": {
   "display_name": "credit_risk",
   "language": "python",
   "name": "credit_risk"
  },
  "language_info": {
   "codemirror_mode": {
    "name": "ipython",
    "version": 3
   },
   "file_extension": ".py",
   "mimetype": "text/x-python",
   "name": "python",
   "nbconvert_exporter": "python",
   "pygments_lexer": "ipython3",
   "version": "3.7.4"
  },
  "toc": {
   "base_numbering": 1,
   "nav_menu": {},
   "number_sections": true,
   "sideBar": true,
   "skip_h1_title": false,
   "title_cell": "Table of Contents",
   "title_sidebar": "Contents",
   "toc_cell": false,
   "toc_position": {},
   "toc_section_display": true,
   "toc_window_display": false
  },
  "varInspector": {
   "cols": {
    "lenName": 16,
    "lenType": 16,
    "lenVar": 40
   },
   "kernels_config": {
    "python": {
     "delete_cmd_postfix": "",
     "delete_cmd_prefix": "del ",
     "library": "var_list.py",
     "varRefreshCmd": "print(var_dic_list())"
    },
    "r": {
     "delete_cmd_postfix": ") ",
     "delete_cmd_prefix": "rm(",
     "library": "var_list.r",
     "varRefreshCmd": "cat(var_dic_list()) "
    }
   },
   "types_to_exclude": [
    "module",
    "function",
    "builtin_function_or_method",
    "instance",
    "_Feature"
   ],
   "window_display": false
  }
 },
 "nbformat": 4,
 "nbformat_minor": 2
}
