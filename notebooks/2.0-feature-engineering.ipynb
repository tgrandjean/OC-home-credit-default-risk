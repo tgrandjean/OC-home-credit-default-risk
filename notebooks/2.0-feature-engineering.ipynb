{
 "cells": [
  {
   "cell_type": "code",
   "execution_count": null,
   "metadata": {},
   "outputs": [],
   "source": [
    "import os\n",
    "\n",
    "import numpy as np\n",
    "import pandas as pd\n",
    "import featuretools as ft\n",
    "import matplotlib.pyplot as plt\n",
    "import seaborn as sns\n",
    "import missingno as msno\n",
    "\n",
    "sns.set()"
   ]
  },
  {
   "cell_type": "code",
   "execution_count": null,
   "metadata": {},
   "outputs": [],
   "source": [
    "data = dict()\n",
    "for dirname, _, filenames in os.walk('../data/raw'):\n",
    "    for filename in filenames:\n",
    "        print(filename)"
   ]
  },
  {
   "cell_type": "code",
   "execution_count": null,
   "metadata": {},
   "outputs": [],
   "source": [
    "app_train = pd.read_csv('../data/raw/application_train.csv', nrows=10000)\\\n",
    "    .sort_values('SK_ID_CURR')\\\n",
    "    .reset_index(drop=True)\n",
    "app_test = pd.read_csv('../data/raw/application_test.csv', nrows=10000)\\\n",
    "    .sort_values('SK_ID_CURR')\\\n",
    "    .reset_index(drop=True)\n",
    "bureau = pd.read_csv('../data/raw/bureau.csv', nrows=10000)\\\n",
    "    .sort_values(['SK_ID_CURR', 'SK_ID_BUREAU'])\\\n",
    "    .reset_index(drop=True)\n",
    "bureau_balance = pd.read_csv('../data/raw/bureau_balance.csv', nrows=10000)\\\n",
    "    .sort_values('SK_ID_BUREAU')\\\n",
    "    .reset_index(drop=True)\n",
    "cash = pd.read_csv('../data/raw/POS_CASH_balance.csv', nrows=10000)\\\n",
    "    .sort_values(['SK_ID_CURR', 'SK_ID_PREV'])\\\n",
    "    .reset_index(drop=True)\n",
    "credit = pd.read_csv('../data/raw/credit_card_balance.csv', nrows=10000)\\\n",
    "    .sort_values(['SK_ID_CURR', 'SK_ID_PREV'])\\\n",
    "    .reset_index(drop=True)\n",
    "previous = pd.read_csv('../data/raw/previous_application.csv', nrows=10000)\\\n",
    "    .sort_values(['SK_ID_CURR', 'SK_ID_PREV'])\\\n",
    "    .reset_index(drop=True)\n",
    "installments = pd.read_csv('../data/raw/installments_payments.csv', nrows=10000)\\\n",
    "    .sort_values(['SK_ID_CURR', 'SK_ID_PREV'])\\\n",
    "    .reset_index(drop=True)"
   ]
  },
  {
   "cell_type": "code",
   "execution_count": null,
   "metadata": {},
   "outputs": [],
   "source": [
    "bureau_balance.shape"
   ]
  },
  {
   "cell_type": "code",
   "execution_count": null,
   "metadata": {},
   "outputs": [],
   "source": [
    "bureau.head()"
   ]
  },
  {
   "cell_type": "code",
   "execution_count": null,
   "metadata": {},
   "outputs": [],
   "source": [
    "app_train['set'] = 'train'\n",
    "app_test['set'] = 'test'\n",
    "app_test[\"TARGET\"] = np.nan"
   ]
  },
  {
   "cell_type": "code",
   "execution_count": null,
   "metadata": {},
   "outputs": [],
   "source": [
    "# Append the dataframes\n",
    "app = app_train"
   ]
  },
  {
   "cell_type": "code",
   "execution_count": null,
   "metadata": {},
   "outputs": [],
   "source": [
    "# Entity set with id applications\n",
    "es = ft.EntitySet(id='clients')"
   ]
  },
  {
   "cell_type": "code",
   "execution_count": null,
   "metadata": {},
   "outputs": [],
   "source": [
    "es = es.entity_from_dataframe(entity_id='app', dataframe=app, index='SK_ID_CURR')\n",
    "es = es.entity_from_dataframe(entity_id='bureau', dataframe=bureau, index='SK_ID_BUREAU')\n",
    "es = es.entity_from_dataframe(entity_id='previous', dataframe=previous, index='SK_ID_PREV')\n",
    "es = es.entity_from_dataframe(entity_id='bureau_balance', \n",
    "                              dataframe=bureau_balance,\n",
    "                              index='SK_ID_BURR',\n",
    "                             )\n",
    "es = es.entity_from_dataframe(entity_id='cash', \n",
    "                              dataframe=cash, \n",
    "                              index='cash_index')\n",
    "es = es.entity_from_dataframe(entity_id='installments', \n",
    "                              dataframe=installments, \n",
    "                              index='installments_index')\n",
    "es = es.entity_from_dataframe(entity_id='credit', \n",
    "                              dataframe=credit, \n",
    "                              index='credit_index')"
   ]
  },
  {
   "cell_type": "code",
   "execution_count": null,
   "metadata": {},
   "outputs": [],
   "source": [
    "r_app_bureau = ft.Relationship(es['app']['SK_ID_CURR'], es['bureau']['SK_ID_CURR'])\n",
    "r_app_previous = ft.Relationship(es['app']['SK_ID_CURR'], es['previous']['SK_ID_CURR'])\n",
    "r_previous_cash = ft.Relationship(es['previous']['SK_ID_PREV'], es['cash']['SK_ID_PREV'])\n",
    "\n",
    "r_previous_installments = ft.Relationship(es['previous']['SK_ID_PREV'], es['installments']['SK_ID_PREV'])\n",
    "r_previous_credit = ft.Relationship(es['previous']['SK_ID_PREV'], es['credit']['SK_ID_PREV'])\n",
    "r_bureau_balance = ft.Relationship(es['bureau']['SK_ID_BUREAU'], es['bureau_balance']['SK_ID_BUREAU'])\n"
   ]
  },
  {
   "cell_type": "code",
   "execution_count": null,
   "metadata": {},
   "outputs": [],
   "source": [
    "es.add_relationships([r_app_bureau,\n",
    "                      r_app_previous,\n",
    "                      r_previous_cash,\n",
    "                      r_previous_installments,\n",
    "                      r_previous_credit,\n",
    "                      r_bureau_balance])"
   ]
  },
  {
   "cell_type": "code",
   "execution_count": null,
   "metadata": {},
   "outputs": [],
   "source": [
    "feature_matrix_client, features_defs = ft.dfs(entityset=es, target_entity='app', verbose=True)"
   ]
  },
  {
   "cell_type": "code",
   "execution_count": null,
   "metadata": {},
   "outputs": [],
   "source": [
    "feature_matrix_client"
   ]
  },
  {
   "cell_type": "code",
   "execution_count": null,
   "metadata": {},
   "outputs": [],
   "source": [
    "features_defs"
   ]
  },
  {
   "cell_type": "code",
   "execution_count": null,
   "metadata": {},
   "outputs": [],
   "source": [
    "corr = feature_matrix_client[feature_matrix_client['TARGET'].notna()].corr()"
   ]
  },
  {
   "cell_type": "code",
   "execution_count": null,
   "metadata": {},
   "outputs": [],
   "source": [
    "corr.sort_values('TARGET', inplace=True)"
   ]
  },
  {
   "cell_type": "code",
   "execution_count": null,
   "metadata": {},
   "outputs": [],
   "source": [
    "corr['TARGET'].head(15)"
   ]
  },
  {
   "cell_type": "code",
   "execution_count": null,
   "metadata": {},
   "outputs": [],
   "source": [
    "corr['TARGET'].dropna().tail(15)"
   ]
  },
  {
   "cell_type": "code",
   "execution_count": null,
   "metadata": {},
   "outputs": [],
   "source": [
    "corr['TARGET'].dropna().shape"
   ]
  },
  {
   "cell_type": "code",
   "execution_count": null,
   "metadata": {},
   "outputs": [],
   "source": [
    "def kde_target_plot(df, feature):\n",
    "    \"\"\"Kernel density estimate plot of a feature colored\n",
    "    by value of the target.\"\"\"\n",
    "    \n",
    "    # Need to reset index for loc to workBU\n",
    "    df = df.reset_index()\n",
    "    plt.figure(figsize = (10, 6))\n",
    "    plt.style.use('fivethirtyeight')\n",
    "    \n",
    "    # plot repaid loans\n",
    "    sns.kdeplot(df.loc[df['TARGET'] == 0, feature], label = 'target == 0')\n",
    "    # plot loans that were not repaid\n",
    "    sns.kdeplot(df.loc[df['TARGET'] == 1, feature], label = 'target == 1')\n",
    "    \n",
    "    # Label the plots\n",
    "    plt.title('Distribution of Feature by Target Value')\n",
    "    plt.xlabel('%s' % feature); plt.ylabel('Density');\n",
    "    plt.show()"
   ]
  },
  {
   "cell_type": "code",
   "execution_count": null,
   "metadata": {},
   "outputs": [],
   "source": [
    "kde_target_plot(feature_matrix_client, feature='MAX(previous.MEAN(credit.CNT_DRAWINGS_OTHER_CURRENT))')"
   ]
  },
  {
   "cell_type": "code",
   "execution_count": null,
   "metadata": {},
   "outputs": [],
   "source": [
    "kde_target_plot(feature_matrix_client, feature='SKEW(previous.MIN(installments.AMT_PAYMENT))')"
   ]
  },
  {
   "cell_type": "code",
   "execution_count": null,
   "metadata": {},
   "outputs": [],
   "source": [
    "corr['TARGET'].dropna()[corr['TARGET'] != 0]"
   ]
  },
  {
   "cell_type": "markdown",
   "metadata": {},
   "source": [
    "## Feature engineering results"
   ]
  },
  {
   "cell_type": "code",
   "execution_count": null,
   "metadata": {},
   "outputs": [],
   "source": [
    "app_train = pd.read_csv('../data/raw/application_train.csv')\\\n",
    "    .sort_values('SK_ID_CURR')\\\n",
    "    .reset_index(drop=True)\n",
    "app_test = pd.read_csv('../data/raw/application_test.csv')\\\n",
    "    .sort_values('SK_ID_CURR')\\\n",
    "    .reset_index(drop=True)\n",
    "bureau = pd.read_csv('../data/raw/bureau.csv')\\\n",
    "    .sort_values(['SK_ID_CURR', 'SK_ID_BUREAU'])\\\n",
    "    .reset_index(drop=True)\n",
    "bureau_balance = pd.read_csv('../data/raw/bureau_balance.csv')\\\n",
    "    .sort_values('SK_ID_BUREAU')\\\n",
    "    .reset_index(drop=True)\n",
    "cash = pd.read_csv('../data/raw/POS_CASH_balance.csv')\\\n",
    "    .sort_values(['SK_ID_CURR', 'SK_ID_PREV'])\\\n",
    "    .reset_index(drop=True)\n",
    "credit = pd.read_csv('../data/raw/credit_card_balance.csv')\\\n",
    "    .sort_values(['SK_ID_CURR', 'SK_ID_PREV'])\\\n",
    "    .reset_index(drop=True)\n",
    "previous = pd.read_csv('../data/raw/previous_application.csv')\\\n",
    "    .sort_values(['SK_ID_CURR', 'SK_ID_PREV'])\\\n",
    "    .reset_index(drop=True)\n",
    "installments = pd.read_csv('../data/raw/installments_payments.csv')\\\n",
    "    .sort_values(['SK_ID_CURR', 'SK_ID_PREV'])\\\n",
    "    .reset_index(drop=True)"
   ]
  },
  {
   "cell_type": "code",
   "execution_count": null,
   "metadata": {},
   "outputs": [],
   "source": [
    "app_test['TARGET'] = np.nan\n",
    "app = app_train.append(app_test, ignore_index=True)"
   ]
  },
  {
   "cell_type": "code",
   "execution_count": null,
   "metadata": {},
   "outputs": [],
   "source": [
    "# Entity set with id applications\n",
    "es = ft.EntitySet(id='clients')\n",
    "\n",
    "es = es.entity_from_dataframe(entity_id='app', dataframe=app, index='SK_ID_CURR')\n",
    "es = es.entity_from_dataframe(entity_id='bureau', dataframe=bureau, index='SK_ID_BUREAU')\n",
    "es = es.entity_from_dataframe(entity_id='previous', dataframe=previous, index='SK_ID_PREV')\n",
    "es = es.entity_from_dataframe(entity_id='bureau_balance', \n",
    "                              dataframe=bureau_balance,\n",
    "                              index='SK_ID_BURR',\n",
    "                             )\n",
    "es = es.entity_from_dataframe(entity_id='cash', \n",
    "                              dataframe=cash, \n",
    "                              index='cash_index')\n",
    "es = es.entity_from_dataframe(entity_id='installments', \n",
    "                              dataframe=installments, \n",
    "                              index='installments_index')\n",
    "es = es.entity_from_dataframe(entity_id='credit', \n",
    "                              dataframe=credit, \n",
    "                              index='credit_index')\n",
    "\n",
    "r_app_bureau = ft.Relationship(es['app']['SK_ID_CURR'], es['bureau']['SK_ID_CURR'])\n",
    "r_app_previous = ft.Relationship(es['app']['SK_ID_CURR'], es['previous']['SK_ID_CURR'])\n",
    "r_previous_cash = ft.Relationship(es['previous']['SK_ID_PREV'], es['cash']['SK_ID_PREV'])\n",
    "\n",
    "r_previous_installments = ft.Relationship(es['previous']['SK_ID_PREV'], es['installments']['SK_ID_PREV'])\n",
    "r_previous_credit = ft.Relationship(es['previous']['SK_ID_PREV'], es['credit']['SK_ID_PREV'])\n",
    "r_bureau_balance = ft.Relationship(es['bureau']['SK_ID_BUREAU'], es['bureau_balance']['SK_ID_BUREAU'])\n",
    "\n",
    "es.add_relationships([r_app_bureau,\n",
    "                      r_app_previous,\n",
    "                      r_previous_cash,\n",
    "                      r_previous_installments,\n",
    "                      r_previous_credit,\n",
    "                      r_bureau_balance])"
   ]
  },
  {
   "cell_type": "code",
   "execution_count": null,
   "metadata": {},
   "outputs": [],
   "source": [
    "feature_matrix_client, features_defs = ft.dfs(entityset=es, target_entity='app')"
   ]
  },
  {
   "cell_type": "code",
   "execution_count": null,
   "metadata": {},
   "outputs": [],
   "source": [
    "target = app_train['TARGET']\n",
    "\n",
    "test = app_test.copy()\n",
    "train = app_train.copy().drop(columns=['TARGET'])\n",
    "\n",
    "imputer = SimpleImputer(strategy='median')\n",
    "scaler = MinMaxScaler(feature_range=(0, 1))\n",
    "\n",
    "imputer.fit(train)\n",
    "\n",
    "train = imputer.transform(train)\n",
    "test = imputer.transform(test)\n",
    "\n",
    "scaler.fit(train)\n",
    "\n",
    "train = scaler.transform(train)\n",
    "test = scaler.transform(test)\n",
    "\n",
    "print(f'train set shape : {train.shape}')\n",
    "print(f'test set shape : {test.shape}')"
   ]
  }
 ],
 "metadata": {
  "kernelspec": {
   "display_name": "credit_risk",
   "language": "python",
   "name": "credit_risk"
  },
  "language_info": {
   "codemirror_mode": {
    "name": "ipython",
    "version": 3
   },
   "file_extension": ".py",
   "mimetype": "text/x-python",
   "name": "python",
   "nbconvert_exporter": "python",
   "pygments_lexer": "ipython3",
   "version": "3.7.4"
  },
  "toc": {
   "base_numbering": 1,
   "nav_menu": {},
   "number_sections": true,
   "sideBar": true,
   "skip_h1_title": false,
   "title_cell": "Table of Contents",
   "title_sidebar": "Contents",
   "toc_cell": false,
   "toc_position": {},
   "toc_section_display": true,
   "toc_window_display": false
  },
  "varInspector": {
   "cols": {
    "lenName": 16,
    "lenType": 16,
    "lenVar": 40
   },
   "kernels_config": {
    "python": {
     "delete_cmd_postfix": "",
     "delete_cmd_prefix": "del ",
     "library": "var_list.py",
     "varRefreshCmd": "print(var_dic_list())"
    },
    "r": {
     "delete_cmd_postfix": ") ",
     "delete_cmd_prefix": "rm(",
     "library": "var_list.r",
     "varRefreshCmd": "cat(var_dic_list()) "
    }
   },
   "types_to_exclude": [
    "module",
    "function",
    "builtin_function_or_method",
    "instance",
    "_Feature"
   ],
   "window_display": false
  }
 },
 "nbformat": 4,
 "nbformat_minor": 2
}
