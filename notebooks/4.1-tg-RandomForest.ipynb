{
 "cells": [
  {
   "cell_type": "code",
   "execution_count": null,
   "metadata": {},
   "outputs": [],
   "source": [
    "import pickle\n",
    "import pandas as pd\n",
    "import numpy as np\n",
    "import matplotlib.pyplot as plt\n",
    "import seaborn as sns\n",
    "\n",
    "from sklearn.ensemble import RandomForestClassifier\n",
    "from sklearn.metrics import roc_auc_score, make_scorer\n",
    "from sklearn.model_selection import learning_curve, train_test_split\n",
    "from sklearn.preprocessing import LabelEncoder\n",
    "import optuna\n",
    "\n",
    "sns.set(font_scale=1.5, rc={\"figure.figsize\": (12, 8)})"
   ]
  },
  {
   "cell_type": "code",
   "execution_count": null,
   "metadata": {},
   "outputs": [],
   "source": [
    "class LabelEncoder(LabelEncoder):\n",
    "    \"\"\"Override the LabelEncoder in order to use it on pipeline.\"\"\"\n",
    "\n",
    "    def fit_transform(self, y, *args, **kwargs):\n",
    "        return super().fit_transform(np.array(y).ravel()).reshape(-1, 1)\n",
    "\n",
    "    def transform(self, y, *args, **kwargs):\n",
    "        return super().transform(np.array(y).ravel()).reshape(-1, 1)"
   ]
  },
  {
   "cell_type": "code",
   "execution_count": null,
   "metadata": {},
   "outputs": [],
   "source": [
    "def plot_learning_curve(estimator, title, X, y, axes=None, cv=None, train_sizes=None):\n",
    "    if axes is None:\n",
    "        _, ax = plt.subplots(1)\n",
    "    ax.set_title(title)\n",
    "    ax.set_xlabel(\"Training examples\")\n",
    "    ax.set_ylabel(\"Score\")\n",
    "    \n",
    "    scorer = make_scorer(roc_auc_score, needs_proba=True)\n",
    "    train_sizes, train_scores, valid_scores = learning_curve(estimator, X, y, cv=cv, scoring=scorer)\n",
    "    \n",
    "    train_scores_mean = np.mean(train_scores, axis=1)\n",
    "    valid_scores_mean = np.mean(valid_scores, axis=1)\n",
    "    train_scores_std = np.std(train_scores, axis=1)\n",
    "    valid_scores_std = np.std(valid_scores, axis=1)\n",
    "    \n",
    "    ax.plot(train_sizes, train_scores_mean, label='Train score')\n",
    "    ax.plot(train_sizes, valid_scores_mean, label='Valid score')\n",
    "    \n",
    "    ax.fill_between(train_sizes, train_scores_mean + train_scores_std,\n",
    "                    train_scores_mean - train_scores_std, alpha=0.2)\n",
    "    ax.fill_between(train_sizes, valid_scores_mean + valid_scores_std,\n",
    "                    valid_scores_mean - valid_scores_std, alpha=0.2)\n",
    "    plt.legend()\n",
    "    plt.show()"
   ]
  },
  {
   "cell_type": "code",
   "execution_count": null,
   "metadata": {},
   "outputs": [],
   "source": [
    "features = pd.read_csv('../data/processed/features_final.csv')"
   ]
  },
  {
   "cell_type": "code",
   "execution_count": null,
   "metadata": {},
   "outputs": [],
   "source": [
    "features.head()"
   ]
  },
  {
   "cell_type": "code",
   "execution_count": null,
   "metadata": {},
   "outputs": [],
   "source": [
    "features.set_index('SK_ID_CURR', inplace=True, drop=True)"
   ]
  },
  {
   "cell_type": "code",
   "execution_count": null,
   "metadata": {},
   "outputs": [],
   "source": [
    "with open('../models/preprocessing_pipeline.pickle', 'rb') as f:\n",
    "    transformer = pickle.load(f)"
   ]
  },
  {
   "cell_type": "code",
   "execution_count": null,
   "metadata": {},
   "outputs": [],
   "source": [
    "features_train = features[features['TARGET'].notna()]\n",
    "\n",
    "X = transformer.transform(features_train.iloc[:, :-1])\n",
    "y = features_train['TARGET'].astype('int8')\n",
    "\n",
    "X_train, X_test, y_train, y_test = train_test_split(X, y)"
   ]
  },
  {
   "cell_type": "code",
   "execution_count": null,
   "metadata": {},
   "outputs": [],
   "source": [
    "plot_learning_curve(RandomForestClassifier(n_estimators=10), 'Learning curve (no optimization)', X, y, cv=2)"
   ]
  },
  {
   "cell_type": "code",
   "execution_count": null,
   "metadata": {},
   "outputs": [],
   "source": [
    "def objective(trial):\n",
    "    param = {\n",
    "        'n_estimators': 10,\n",
    "        'max_depth': trial.suggest_int('max_depth', 2, 100),\n",
    "        'max_features': trial.suggest_int('max_features', 2, 15),\n",
    "        'max_leaf_nodes': trial.suggest_int('max_leaf_nodes', 2, 100)\n",
    "    }\n",
    "    evals_results = dict()\n",
    "    \n",
    "    rf = RandomForestClassifier(**param)\n",
    "    rf.fit(X_train, y_train)\n",
    "    pred = rf.predict_proba(X_test)\n",
    "    train_score = roc_auc_score(y_train, rf.predict_proba(X_train)[:, 1])\n",
    "    score = roc_auc_score(y_test, pred[:, 1])\n",
    "    print('Train score %f' % train_score)\n",
    "    return score\n",
    "    "
   ]
  },
  {
   "cell_type": "code",
   "execution_count": null,
   "metadata": {},
   "outputs": [],
   "source": [
    "study = optuna.create_study(direction='maximize')\n",
    "study.optimize(objective, n_trials=50)"
   ]
  },
  {
   "cell_type": "code",
   "execution_count": null,
   "metadata": {},
   "outputs": [],
   "source": [
    "study.best_params"
   ]
  },
  {
   "cell_type": "code",
   "execution_count": null,
   "metadata": {},
   "outputs": [],
   "source": [
    "plot_learning_curve(RandomForestClassifier(**study.best_params), \n",
    "                    'Learning curves Optimized RandomForest', \n",
    "                     X, y, cv=5)"
   ]
  },
  {
   "cell_type": "code",
   "execution_count": null,
   "metadata": {},
   "outputs": [],
   "source": []
  }
 ],
 "metadata": {
  "kernelspec": {
   "display_name": "credit_risk",
   "language": "python",
   "name": "credit_risk"
  },
  "language_info": {
   "codemirror_mode": {
    "name": "ipython",
    "version": 3
   },
   "file_extension": ".py",
   "mimetype": "text/x-python",
   "name": "python",
   "nbconvert_exporter": "python",
   "pygments_lexer": "ipython3",
   "version": "3.7.4"
  },
  "toc": {
   "base_numbering": 1,
   "nav_menu": {},
   "number_sections": true,
   "sideBar": true,
   "skip_h1_title": false,
   "title_cell": "Table of Contents",
   "title_sidebar": "Contents",
   "toc_cell": false,
   "toc_position": {},
   "toc_section_display": true,
   "toc_window_display": false
  },
  "varInspector": {
   "cols": {
    "lenName": 16,
    "lenType": 16,
    "lenVar": 40
   },
   "kernels_config": {
    "python": {
     "delete_cmd_postfix": "",
     "delete_cmd_prefix": "del ",
     "library": "var_list.py",
     "varRefreshCmd": "print(var_dic_list())"
    },
    "r": {
     "delete_cmd_postfix": ") ",
     "delete_cmd_prefix": "rm(",
     "library": "var_list.r",
     "varRefreshCmd": "cat(var_dic_list()) "
    }
   },
   "types_to_exclude": [
    "module",
    "function",
    "builtin_function_or_method",
    "instance",
    "_Feature"
   ],
   "window_display": false
  }
 },
 "nbformat": 4,
 "nbformat_minor": 2
}
